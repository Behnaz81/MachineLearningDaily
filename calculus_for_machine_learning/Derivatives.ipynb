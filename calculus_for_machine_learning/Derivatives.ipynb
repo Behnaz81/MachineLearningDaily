{
  "nbformat": 4,
  "nbformat_minor": 0,
  "metadata": {
    "colab": {
      "provenance": [],
      "authorship_tag": "ABX9TyPUrETYVNlqVfxmFlPwdepJ",
      "include_colab_link": true
    },
    "kernelspec": {
      "name": "python3",
      "display_name": "Python 3"
    },
    "language_info": {
      "name": "python"
    }
  },
  "cells": [
    {
      "cell_type": "markdown",
      "metadata": {
        "id": "view-in-github",
        "colab_type": "text"
      },
      "source": [
        "<a href=\"https://colab.research.google.com/github/Behnaz81/MachineLearningDaily/blob/main/calculus_for_machine_learning/Derivatives.ipynb\" target=\"_parent\"><img src=\"https://colab.research.google.com/assets/colab-badge.svg\" alt=\"Open In Colab\"/></a>"
      ]
    },
    {
      "cell_type": "markdown",
      "source": [
        "# Derivatives"
      ],
      "metadata": {
        "id": "7zBTDMP7pAi1"
      }
    },
    {
      "cell_type": "markdown",
      "source": [
        "## Inverse functions\n",
        "\n",
        "Two functions are inverse if one undos what the other did.\n",
        "\n",
        "**Example**:\n",
        "\n",
        "$$\n",
        "f(x) = x^2\n",
        "\\\\\n",
        "g(x) = \\sqrt{x}\n",
        "$$\n",
        "\n",
        "Here $g(x)$ is the inverse of $f(x)$.\n",
        "\n",
        "$$\n",
        "g(x) = f^{-1}(x)\n",
        "\\\\\n",
        "g(f(x)) = x\n",
        "$$\n",
        "\n",
        "The derivative of $g(x)$ is $\\frac{1}{f^{-1}(x)}$.\n",
        "\n",
        "$$\n",
        "g(f(x)) = x\n",
        "\\\\\n",
        "g^{-1}(x) = \\frac{1}{f^{-1}(x)}\n",
        "$$"
      ],
      "metadata": {
        "id": "pyLxnyqBp2E_"
      }
    },
    {
      "cell_type": "markdown",
      "source": [
        "## Trigonometric functions\n",
        "\n",
        "$$\n",
        "f(x) = sin(x) ⇒ f'(x) = cos(x)\n",
        "\\\\\n",
        "g(x) = cos(x) ⇒ g'(x) = -sin(x)\n",
        "$$"
      ],
      "metadata": {
        "id": "ryNch2jns3Nd"
      }
    },
    {
      "cell_type": "markdown",
      "source": [
        "## Exponential function\n",
        "\n",
        "In these functions we use euler number ($e=2.718...$).\n",
        "\n",
        "$$\n",
        "f(x) = e^x\n",
        "\\\\\n",
        "f'(x) = f(x)\n",
        "$$"
      ],
      "metadata": {
        "id": "WSZ86fgNv2P8"
      }
    },
    {
      "cell_type": "markdown",
      "source": [
        "## Logarithm function\n",
        "\n",
        "Logarithm function is the inverse of exponential function. So using the inverse function property we can say:\n",
        "\n",
        "$$\n",
        "f(x) = e^x ⇒ f'(x) = e^x\n",
        "\\\\\n",
        "log(e^x) = x ⇒ g(x) = log(x) = f^{-1}(x)\n",
        "\\\\\n",
        "g'(x) = \\frac{1}{f'(x)} ⇒ g'(x) = \\frac{1}{e^x} = \\frac{1}{x}\n",
        "$$"
      ],
      "metadata": {
        "id": "z65oEuOG9sZ-"
      }
    },
    {
      "cell_type": "markdown",
      "source": [
        "## Non-differentiable functions\n",
        "\n",
        "Functions with corners, jump discontinuity and vertical tangents are **non-differentiable** because at some point they don't have derivatives."
      ],
      "metadata": {
        "id": "Zs_PtlOMAX1H"
      }
    },
    {
      "cell_type": "markdown",
      "source": [
        "## Derivative properties\n",
        "\n",
        "1. **Multiplication by a scaler**\n",
        "\n",
        "$$\n",
        "f(x) = cg(x) \\Rightarrow f'(x) = cg'(x)\n",
        "$$\n",
        "\n",
        "2. **Sum rule**\n",
        "\n",
        "$$\n",
        "f = f_1 + f_2 ⇒ f' = f'_1 + f'_2\n",
        "$$\n",
        "\n",
        "3. **Product rule**\n",
        "\n",
        "$$\n",
        "f = gh ⇒ f' = g'h + gh'\n",
        "$$\n",
        "\n",
        "4. **The chain rule**\n",
        "\n",
        "$$\n",
        "g(h(x)) = \\frac{dg}{dh}.\\frac{dh}{dx}\n",
        "$$"
      ],
      "metadata": {
        "id": "PWKGdtA6Bz82"
      }
    }
  ]
}