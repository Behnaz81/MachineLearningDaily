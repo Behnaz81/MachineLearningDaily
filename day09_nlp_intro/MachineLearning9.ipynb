{
  "nbformat": 4,
  "nbformat_minor": 0,
  "metadata": {
    "colab": {
      "provenance": [],
      "authorship_tag": "ABX9TyNh6hV8/bygXnjeYmZ/AXla",
      "include_colab_link": true
    },
    "kernelspec": {
      "name": "python3",
      "display_name": "Python 3"
    },
    "language_info": {
      "name": "python"
    }
  },
  "cells": [
    {
      "cell_type": "markdown",
      "metadata": {
        "id": "view-in-github",
        "colab_type": "text"
      },
      "source": [
        "<a href=\"https://colab.research.google.com/github/Behnaz81/MachineLearningDaily/blob/main/day09_nlp_intro/MachineLearning9.ipynb\" target=\"_parent\"><img src=\"https://colab.research.google.com/assets/colab-badge.svg\" alt=\"Open In Colab\"/></a>"
      ]
    },
    {
      "cell_type": "markdown",
      "source": [
        "In this notebook, we use nltk.book to explore basic NLP concepts such as searching within a text, finding similar words, and analyzing shared contexts between words."
      ],
      "metadata": {
        "id": "ji1RFlJxr-FZ"
      }
    },
    {
      "cell_type": "code",
      "execution_count": null,
      "metadata": {
        "id": "MEC11V0v0EPg"
      },
      "outputs": [],
      "source": [
        "import nltk"
      ]
    },
    {
      "cell_type": "code",
      "source": [
        "nltk.download('book')"
      ],
      "metadata": {
        "colab": {
          "base_uri": "https://localhost:8080/"
        },
        "id": "BxwX-6-blHZ-",
        "outputId": "b690023f-29f7-4df1-99e4-27df6a8157d0"
      },
      "execution_count": null,
      "outputs": [
        {
          "output_type": "stream",
          "name": "stderr",
          "text": [
            "[nltk_data] Downloading collection 'book'\n",
            "[nltk_data]    | \n",
            "[nltk_data]    | Downloading package abc to /root/nltk_data...\n",
            "[nltk_data]    |   Unzipping corpora/abc.zip.\n",
            "[nltk_data]    | Downloading package brown to /root/nltk_data...\n",
            "[nltk_data]    |   Unzipping corpora/brown.zip.\n",
            "[nltk_data]    | Downloading package chat80 to /root/nltk_data...\n",
            "[nltk_data]    |   Unzipping corpora/chat80.zip.\n",
            "[nltk_data]    | Downloading package cmudict to /root/nltk_data...\n",
            "[nltk_data]    |   Unzipping corpora/cmudict.zip.\n",
            "[nltk_data]    | Downloading package conll2000 to /root/nltk_data...\n",
            "[nltk_data]    |   Unzipping corpora/conll2000.zip.\n",
            "[nltk_data]    | Downloading package conll2002 to /root/nltk_data...\n",
            "[nltk_data]    |   Unzipping corpora/conll2002.zip.\n",
            "[nltk_data]    | Downloading package dependency_treebank to\n",
            "[nltk_data]    |     /root/nltk_data...\n",
            "[nltk_data]    |   Unzipping corpora/dependency_treebank.zip.\n",
            "[nltk_data]    | Downloading package genesis to /root/nltk_data...\n",
            "[nltk_data]    |   Unzipping corpora/genesis.zip.\n",
            "[nltk_data]    | Downloading package gutenberg to /root/nltk_data...\n",
            "[nltk_data]    |   Unzipping corpora/gutenberg.zip.\n",
            "[nltk_data]    | Downloading package ieer to /root/nltk_data...\n",
            "[nltk_data]    |   Unzipping corpora/ieer.zip.\n",
            "[nltk_data]    | Downloading package inaugural to /root/nltk_data...\n",
            "[nltk_data]    |   Unzipping corpora/inaugural.zip.\n",
            "[nltk_data]    | Downloading package movie_reviews to\n",
            "[nltk_data]    |     /root/nltk_data...\n",
            "[nltk_data]    |   Unzipping corpora/movie_reviews.zip.\n",
            "[nltk_data]    | Downloading package nps_chat to /root/nltk_data...\n",
            "[nltk_data]    |   Unzipping corpora/nps_chat.zip.\n",
            "[nltk_data]    | Downloading package names to /root/nltk_data...\n",
            "[nltk_data]    |   Unzipping corpora/names.zip.\n",
            "[nltk_data]    | Downloading package ppattach to /root/nltk_data...\n",
            "[nltk_data]    |   Unzipping corpora/ppattach.zip.\n",
            "[nltk_data]    | Downloading package reuters to /root/nltk_data...\n",
            "[nltk_data]    | Downloading package senseval to /root/nltk_data...\n",
            "[nltk_data]    |   Unzipping corpora/senseval.zip.\n",
            "[nltk_data]    | Downloading package state_union to /root/nltk_data...\n",
            "[nltk_data]    |   Unzipping corpora/state_union.zip.\n",
            "[nltk_data]    | Downloading package stopwords to /root/nltk_data...\n",
            "[nltk_data]    |   Unzipping corpora/stopwords.zip.\n",
            "[nltk_data]    | Downloading package swadesh to /root/nltk_data...\n",
            "[nltk_data]    |   Unzipping corpora/swadesh.zip.\n",
            "[nltk_data]    | Downloading package timit to /root/nltk_data...\n",
            "[nltk_data]    |   Unzipping corpora/timit.zip.\n",
            "[nltk_data]    | Downloading package treebank to /root/nltk_data...\n",
            "[nltk_data]    |   Unzipping corpora/treebank.zip.\n",
            "[nltk_data]    | Downloading package toolbox to /root/nltk_data...\n",
            "[nltk_data]    |   Unzipping corpora/toolbox.zip.\n",
            "[nltk_data]    | Downloading package udhr to /root/nltk_data...\n",
            "[nltk_data]    |   Unzipping corpora/udhr.zip.\n",
            "[nltk_data]    | Downloading package udhr2 to /root/nltk_data...\n",
            "[nltk_data]    |   Unzipping corpora/udhr2.zip.\n",
            "[nltk_data]    | Downloading package unicode_samples to\n",
            "[nltk_data]    |     /root/nltk_data...\n",
            "[nltk_data]    |   Unzipping corpora/unicode_samples.zip.\n",
            "[nltk_data]    | Downloading package webtext to /root/nltk_data...\n",
            "[nltk_data]    |   Unzipping corpora/webtext.zip.\n",
            "[nltk_data]    | Downloading package wordnet to /root/nltk_data...\n",
            "[nltk_data]    | Downloading package wordnet_ic to /root/nltk_data...\n",
            "[nltk_data]    |   Unzipping corpora/wordnet_ic.zip.\n",
            "[nltk_data]    | Downloading package words to /root/nltk_data...\n",
            "[nltk_data]    |   Unzipping corpora/words.zip.\n",
            "[nltk_data]    | Downloading package maxent_treebank_pos_tagger to\n",
            "[nltk_data]    |     /root/nltk_data...\n",
            "[nltk_data]    |   Unzipping taggers/maxent_treebank_pos_tagger.zip.\n",
            "[nltk_data]    | Downloading package maxent_ne_chunker to\n",
            "[nltk_data]    |     /root/nltk_data...\n",
            "[nltk_data]    |   Unzipping chunkers/maxent_ne_chunker.zip.\n",
            "[nltk_data]    | Downloading package universal_tagset to\n",
            "[nltk_data]    |     /root/nltk_data...\n",
            "[nltk_data]    |   Unzipping taggers/universal_tagset.zip.\n",
            "[nltk_data]    | Downloading package punkt to /root/nltk_data...\n",
            "[nltk_data]    |   Unzipping tokenizers/punkt.zip.\n",
            "[nltk_data]    | Downloading package book_grammars to\n",
            "[nltk_data]    |     /root/nltk_data...\n",
            "[nltk_data]    |   Unzipping grammars/book_grammars.zip.\n",
            "[nltk_data]    | Downloading package city_database to\n",
            "[nltk_data]    |     /root/nltk_data...\n",
            "[nltk_data]    |   Unzipping corpora/city_database.zip.\n",
            "[nltk_data]    | Downloading package tagsets to /root/nltk_data...\n",
            "[nltk_data]    |   Unzipping help/tagsets.zip.\n",
            "[nltk_data]    | Downloading package panlex_swadesh to\n",
            "[nltk_data]    |     /root/nltk_data...\n",
            "[nltk_data]    | Downloading package averaged_perceptron_tagger to\n",
            "[nltk_data]    |     /root/nltk_data...\n",
            "[nltk_data]    |   Unzipping taggers/averaged_perceptron_tagger.zip.\n",
            "[nltk_data]    | \n",
            "[nltk_data]  Done downloading collection book\n"
          ]
        },
        {
          "output_type": "execute_result",
          "data": {
            "text/plain": [
              "True"
            ]
          },
          "metadata": {},
          "execution_count": 6
        }
      ]
    },
    {
      "cell_type": "code",
      "source": [
        "from nltk.book import *"
      ],
      "metadata": {
        "colab": {
          "base_uri": "https://localhost:8080/"
        },
        "id": "i91sEqzPlUy1",
        "outputId": "932b7285-d28e-4906-be56-a421fae0758d"
      },
      "execution_count": null,
      "outputs": [
        {
          "output_type": "stream",
          "name": "stdout",
          "text": [
            "*** Introductory Examples for the NLTK Book ***\n",
            "Loading text1, ..., text9 and sent1, ..., sent9\n",
            "Type the name of the text or sentence to view it.\n",
            "Type: 'texts()' or 'sents()' to list the materials.\n",
            "text1: Moby Dick by Herman Melville 1851\n",
            "text2: Sense and Sensibility by Jane Austen 1811\n",
            "text3: The Book of Genesis\n",
            "text4: Inaugural Address Corpus\n",
            "text5: Chat Corpus\n",
            "text6: Monty Python and the Holy Grail\n",
            "text7: Wall Street Journal\n",
            "text8: Personals Corpus\n",
            "text9: The Man Who Was Thursday by G . K . Chesterton 1908\n"
          ]
        }
      ]
    },
    {
      "cell_type": "code",
      "source": [
        "text1"
      ],
      "metadata": {
        "colab": {
          "base_uri": "https://localhost:8080/"
        },
        "id": "j-RMaNYml3Ev",
        "outputId": "17ec546c-b9bf-4791-f347-9f9959c491c5"
      },
      "execution_count": null,
      "outputs": [
        {
          "output_type": "execute_result",
          "data": {
            "text/plain": [
              "<Text: Moby Dick by Herman Melville 1851>"
            ]
          },
          "metadata": {},
          "execution_count": 8
        }
      ]
    },
    {
      "cell_type": "markdown",
      "source": [
        "To find a word in a text."
      ],
      "metadata": {
        "id": "7xSBQGhIrXdX"
      }
    },
    {
      "cell_type": "code",
      "source": [
        "text1.concordance(\"monstrous\")"
      ],
      "metadata": {
        "colab": {
          "base_uri": "https://localhost:8080/"
        },
        "id": "A3tz6Dn_orj2",
        "outputId": "37e8e4c5-2286-4279-8dd5-158ce85f4de7"
      },
      "execution_count": null,
      "outputs": [
        {
          "output_type": "stream",
          "name": "stdout",
          "text": [
            "Displaying 11 of 11 matches:\n",
            "ong the former , one was of a most monstrous size . ... This came towards us , \n",
            "ON OF THE PSALMS . \" Touching that monstrous bulk of the whale or ork we have r\n",
            "ll over with a heathenish array of monstrous clubs and spears . Some were thick\n",
            "d as you gazed , and wondered what monstrous cannibal and savage could ever hav\n",
            "that has survived the flood ; most monstrous and most mountainous ! That Himmal\n",
            "they might scout at Moby Dick as a monstrous fable , or still worse and more de\n",
            "th of Radney .'\" CHAPTER 55 Of the Monstrous Pictures of Whales . I shall ere l\n",
            "ing Scenes . In connexion with the monstrous pictures of whales , I am strongly\n",
            "ere to enter upon those still more monstrous stories of them which are to be fo\n",
            "ght have been rummaged out of this monstrous cabinet there is no telling . But \n",
            "of Whale - Bones ; for Whales of a monstrous size are oftentimes cast up dead u\n"
          ]
        }
      ]
    },
    {
      "cell_type": "markdown",
      "source": [
        "To find similar words in the text."
      ],
      "metadata": {
        "id": "qASFSql9rbvk"
      }
    },
    {
      "cell_type": "code",
      "source": [
        "text1.similar(\"monstrous\")"
      ],
      "metadata": {
        "id": "-RDunswDo9ip",
        "colab": {
          "base_uri": "https://localhost:8080/"
        },
        "outputId": "520f82c0-0b14-45d7-d211-ddd2b42a2ba2"
      },
      "execution_count": 10,
      "outputs": [
        {
          "output_type": "stream",
          "name": "stdout",
          "text": [
            "true contemptible christian abundant few part mean careful puzzled\n",
            "mystifying passing curious loving wise doleful gamesome singular\n",
            "delightfully perilous fearless\n"
          ]
        }
      ]
    },
    {
      "cell_type": "markdown",
      "source": [
        "Allows us to examine just the contexts that are shared by two or more words."
      ],
      "metadata": {
        "id": "AIy2wCyyrqsM"
      }
    },
    {
      "cell_type": "code",
      "source": [
        "text2.common_contexts([\"monstrous\", \"very\"])"
      ],
      "metadata": {
        "id": "ui4umlbXpkBi",
        "colab": {
          "base_uri": "https://localhost:8080/"
        },
        "outputId": "8941fa8d-a322-4a63-f942-f6cf20144f22"
      },
      "execution_count": 11,
      "outputs": [
        {
          "output_type": "stream",
          "name": "stdout",
          "text": [
            "am_glad a_pretty a_lucky is_pretty be_glad\n"
          ]
        }
      ]
    },
    {
      "cell_type": "markdown",
      "source": [
        "To show usage of each word in pages."
      ],
      "metadata": {
        "id": "LA2S78CkuUjG"
      }
    },
    {
      "cell_type": "code",
      "source": [
        "text4.dispersion_plot([\"citizens\", \"democracy\", \"freedom\", \"duties\", \"America\"])"
      ],
      "metadata": {
        "colab": {
          "base_uri": "https://localhost:8080/",
          "height": 472
        },
        "id": "NsNjySyMrkVP",
        "outputId": "339ea558-6494-4510-9457-d645b0fa7b5a"
      },
      "execution_count": 12,
      "outputs": [
        {
          "output_type": "display_data",
          "data": {
            "text/plain": [
              "<Figure size 640x480 with 1 Axes>"
            ],
            "image/png": "[encoded data removed]"
          },
          "metadata": {}
        }
      ]
    },
    {
      "cell_type": "markdown",
      "source": [
        "Length of a text."
      ],
      "metadata": {
        "id": "JeztFlMzuaZt"
      }
    },
    {
      "cell_type": "code",
      "source": [
        "len(text3)"
      ],
      "metadata": {
        "colab": {
          "base_uri": "https://localhost:8080/"
        },
        "id": "MlWy_OqotMAu",
        "outputId": "186091ed-9f91-4d91-f347-ee2e27b8cdb2"
      },
      "execution_count": 21,
      "outputs": [
        {
          "output_type": "execute_result",
          "data": {
            "text/plain": [
              "44764"
            ]
          },
          "metadata": {},
          "execution_count": 21
        }
      ]
    },
    {
      "cell_type": "markdown",
      "source": [
        "A token is the technical name for a sequence of characters that we want to treat as a group."
      ],
      "metadata": {
        "id": "sHELNWCVw5Tr"
      }
    },
    {
      "cell_type": "code",
      "source": [
        "sorted(set(text3))"
      ],
      "metadata": {
        "colab": {
          "base_uri": "https://localhost:8080/"
        },
        "collapsed": true,
        "id": "XBmYJCpatcmT",
        "outputId": "6ef77180-46a5-450b-cb49-0fab1ea9fe39"
      },
      "execution_count": 22,
      "outputs": [
        {
          "output_type": "execute_result",
          "data": {
            "text/plain": [
              "['!',\n",
              " \"'\",\n",
              " '(',\n",
              " ')',\n",
              " ',',\n",
              " ',)',\n",
              " '.',\n",
              " '.)',\n",
              " ':',\n",
              " ';',\n",
              " ';)',\n",
              " '?',\n",
              " '?)',\n",
              " 'A',\n",
              " 'Abel',\n",
              " 'Abelmizraim',\n",
              " 'Abidah',\n",
              " 'Abide',\n",
              " 'Abimael',\n",
              " 'Abimelech',\n",
              " 'Abr',\n",
              " 'Abrah',\n",
              " 'Abraham',\n",
              " 'Abram',\n",
              " 'Accad',\n",
              " 'Achbor',\n",
              " 'Adah',\n",
              " 'Adam',\n",
              " 'Adbeel',\n",
              " 'Admah',\n",
              " 'Adullamite',\n",
              " 'After',\n",
              " 'Aholibamah',\n",
              " 'Ahuzzath',\n",
              " 'Ajah',\n",
              " 'Akan',\n",
              " 'All',\n",
              " 'Allonbachuth',\n",
              " 'Almighty',\n",
              " 'Almodad',\n",
              " 'Also',\n",
              " 'Alvah',\n",
              " 'Alvan',\n",
              " 'Am',\n",
              " 'Amal',\n",
              " 'Amalek',\n",
              " 'Amalekites',\n",
              " 'Ammon',\n",
              " 'Amorite',\n",
              " 'Amorites',\n",
              " 'Amraphel',\n",
              " 'An',\n",
              " 'Anah',\n",
              " 'Anamim',\n",
              " 'And',\n",
              " 'Aner',\n",
              " 'Angel',\n",
              " 'Appoint',\n",
              " 'Aram',\n",
              " 'Aran',\n",
              " 'Ararat',\n",
              " 'Arbah',\n",
              " 'Ard',\n",
              " 'Are',\n",
              " 'Areli',\n",
              " 'Arioch',\n",
              " 'Arise',\n",
              " 'Arkite',\n",
              " 'Arodi',\n",
              " 'Arphaxad',\n",
              " 'Art',\n",
              " 'Arvadite',\n",
              " 'As',\n",
              " 'Asenath',\n",
              " 'Ashbel',\n",
              " 'Asher',\n",
              " 'Ashkenaz',\n",
              " 'Ashteroth',\n",
              " 'Ask',\n",
              " 'Asshur',\n",
              " 'Asshurim',\n",
              " 'Assyr',\n",
              " 'Assyria',\n",
              " 'At',\n",
              " 'Atad',\n",
              " 'Avith',\n",
              " 'Baalhanan',\n",
              " 'Babel',\n",
              " 'Bashemath',\n",
              " 'Be',\n",
              " 'Because',\n",
              " 'Becher',\n",
              " 'Bedad',\n",
              " 'Beeri',\n",
              " 'Beerlahairoi',\n",
              " 'Beersheba',\n",
              " 'Behold',\n",
              " 'Bela',\n",
              " 'Belah',\n",
              " 'Benam',\n",
              " 'Benjamin',\n",
              " 'Beno',\n",
              " 'Beor',\n",
              " 'Bera',\n",
              " 'Bered',\n",
              " 'Beriah',\n",
              " 'Bethel',\n",
              " 'Bethlehem',\n",
              " 'Bethuel',\n",
              " 'Beware',\n",
              " 'Bilhah',\n",
              " 'Bilhan',\n",
              " 'Binding',\n",
              " 'Birsha',\n",
              " 'Bless',\n",
              " 'Blessed',\n",
              " 'Both',\n",
              " 'Bow',\n",
              " 'Bozrah',\n",
              " 'Bring',\n",
              " 'But',\n",
              " 'Buz',\n",
              " 'By',\n",
              " 'Cain',\n",
              " 'Cainan',\n",
              " 'Calah',\n",
              " 'Calneh',\n",
              " 'Can',\n",
              " 'Cana',\n",
              " 'Canaan',\n",
              " 'Canaanite',\n",
              " 'Canaanites',\n",
              " 'Canaanitish',\n",
              " 'Caphtorim',\n",
              " 'Carmi',\n",
              " 'Casluhim',\n",
              " 'Cast',\n",
              " 'Cause',\n",
              " 'Chaldees',\n",
              " 'Chedorlaomer',\n",
              " 'Cheran',\n",
              " 'Cherubims',\n",
              " 'Chesed',\n",
              " 'Chezib',\n",
              " 'Come',\n",
              " 'Cursed',\n",
              " 'Cush',\n",
              " 'Damascus',\n",
              " 'Dan',\n",
              " 'Day',\n",
              " 'Deborah',\n",
              " 'Dedan',\n",
              " 'Deliver',\n",
              " 'Diklah',\n",
              " 'Din',\n",
              " 'Dinah',\n",
              " 'Dinhabah',\n",
              " 'Discern',\n",
              " 'Dishan',\n",
              " 'Dishon',\n",
              " 'Do',\n",
              " 'Dodanim',\n",
              " 'Dothan',\n",
              " 'Drink',\n",
              " 'Duke',\n",
              " 'Dumah',\n",
              " 'Earth',\n",
              " 'Ebal',\n",
              " 'Eber',\n",
              " 'Edar',\n",
              " 'Eden',\n",
              " 'Edom',\n",
              " 'Edomites',\n",
              " 'Egy',\n",
              " 'Egypt',\n",
              " 'Egyptia',\n",
              " 'Egyptian',\n",
              " 'Egyptians',\n",
              " 'Ehi',\n",
              " 'Elah',\n",
              " 'Elam',\n",
              " 'Elbethel',\n",
              " 'Eldaah',\n",
              " 'EleloheIsrael',\n",
              " 'Eliezer',\n",
              " 'Eliphaz',\n",
              " 'Elishah',\n",
              " 'Ellasar',\n",
              " 'Elon',\n",
              " 'Elparan',\n",
              " 'Emins',\n",
              " 'En',\n",
              " 'Enmishpat',\n",
              " 'Eno',\n",
              " 'Enoch',\n",
              " 'Enos',\n",
              " 'Ephah',\n",
              " 'Epher',\n",
              " 'Ephra',\n",
              " 'Ephraim',\n",
              " 'Ephrath',\n",
              " 'Ephron',\n",
              " 'Er',\n",
              " 'Erech',\n",
              " 'Eri',\n",
              " 'Es',\n",
              " 'Esau',\n",
              " 'Escape',\n",
              " 'Esek',\n",
              " 'Eshban',\n",
              " 'Eshcol',\n",
              " 'Ethiopia',\n",
              " 'Euphrat',\n",
              " 'Euphrates',\n",
              " 'Eve',\n",
              " 'Even',\n",
              " 'Every',\n",
              " 'Except',\n",
              " 'Ezbon',\n",
              " 'Ezer',\n",
              " 'Fear',\n",
              " 'Feed',\n",
              " 'Fifteen',\n",
              " 'Fill',\n",
              " 'For',\n",
              " 'Forasmuch',\n",
              " 'Forgive',\n",
              " 'From',\n",
              " 'Fulfil',\n",
              " 'G',\n",
              " 'Gad',\n",
              " 'Gaham',\n",
              " 'Galeed',\n",
              " 'Gatam',\n",
              " 'Gather',\n",
              " 'Gaza',\n",
              " 'Gentiles',\n",
              " 'Gera',\n",
              " 'Gerar',\n",
              " 'Gershon',\n",
              " 'Get',\n",
              " 'Gether',\n",
              " 'Gihon',\n",
              " 'Gilead',\n",
              " 'Girgashites',\n",
              " 'Girgasite',\n",
              " 'Give',\n",
              " 'Go',\n",
              " 'God',\n",
              " 'Gomer',\n",
              " 'Gomorrah',\n",
              " 'Goshen',\n",
              " 'Guni',\n",
              " 'Hadad',\n",
              " 'Hadar',\n",
              " 'Hadoram',\n",
              " 'Hagar',\n",
              " 'Haggi',\n",
              " 'Hai',\n",
              " 'Ham',\n",
              " 'Hamathite',\n",
              " 'Hamor',\n",
              " 'Hamul',\n",
              " 'Hanoch',\n",
              " 'Happy',\n",
              " 'Haran',\n",
              " 'Hast',\n",
              " 'Haste',\n",
              " 'Have',\n",
              " 'Havilah',\n",
              " 'Hazarmaveth',\n",
              " 'Hazezontamar',\n",
              " 'Hazo',\n",
              " 'He',\n",
              " 'Hear',\n",
              " 'Heaven',\n",
              " 'Heber',\n",
              " 'Hebrew',\n",
              " 'Hebrews',\n",
              " 'Hebron',\n",
              " 'Hemam',\n",
              " 'Hemdan',\n",
              " 'Here',\n",
              " 'Hereby',\n",
              " 'Heth',\n",
              " 'Hezron',\n",
              " 'Hiddekel',\n",
              " 'Hinder',\n",
              " 'Hirah',\n",
              " 'His',\n",
              " 'Hitti',\n",
              " 'Hittite',\n",
              " 'Hittites',\n",
              " 'Hivite',\n",
              " 'Hobah',\n",
              " 'Hori',\n",
              " 'Horite',\n",
              " 'Horites',\n",
              " 'How',\n",
              " 'Hul',\n",
              " 'Huppim',\n",
              " 'Husham',\n",
              " 'Hushim',\n",
              " 'Huz',\n",
              " 'I',\n",
              " 'If',\n",
              " 'In',\n",
              " 'Irad',\n",
              " 'Iram',\n",
              " 'Is',\n",
              " 'Isa',\n",
              " 'Isaac',\n",
              " 'Iscah',\n",
              " 'Ishbak',\n",
              " 'Ishmael',\n",
              " 'Ishmeelites',\n",
              " 'Ishuah',\n",
              " 'Isra',\n",
              " 'Israel',\n",
              " 'Issachar',\n",
              " 'Isui',\n",
              " 'It',\n",
              " 'Ithran',\n",
              " 'Jaalam',\n",
              " 'Jabal',\n",
              " 'Jabbok',\n",
              " 'Jac',\n",
              " 'Jachin',\n",
              " 'Jacob',\n",
              " 'Jahleel',\n",
              " 'Jahzeel',\n",
              " 'Jamin',\n",
              " 'Japhe',\n",
              " 'Japheth',\n",
              " 'Jared',\n",
              " 'Javan',\n",
              " 'Jebusite',\n",
              " 'Jebusites',\n",
              " 'Jegarsahadutha',\n",
              " 'Jehovahjireh',\n",
              " 'Jemuel',\n",
              " 'Jerah',\n",
              " 'Jetheth',\n",
              " 'Jetur',\n",
              " 'Jeush',\n",
              " 'Jezer',\n",
              " 'Jidlaph',\n",
              " 'Jimnah',\n",
              " 'Job',\n",
              " 'Jobab',\n",
              " 'Jokshan',\n",
              " 'Joktan',\n",
              " 'Jordan',\n",
              " 'Joseph',\n",
              " 'Jubal',\n",
              " 'Judah',\n",
              " 'Judge',\n",
              " 'Judith',\n",
              " 'Kadesh',\n",
              " 'Kadmonites',\n",
              " 'Karnaim',\n",
              " 'Kedar',\n",
              " 'Kedemah',\n",
              " 'Kemuel',\n",
              " 'Kenaz',\n",
              " 'Kenites',\n",
              " 'Kenizzites',\n",
              " 'Keturah',\n",
              " 'Kiriathaim',\n",
              " 'Kirjatharba',\n",
              " 'Kittim',\n",
              " 'Know',\n",
              " 'Kohath',\n",
              " 'Kor',\n",
              " 'Korah',\n",
              " 'LO',\n",
              " 'LORD',\n",
              " 'Laban',\n",
              " 'Lahairoi',\n",
              " 'Lamech',\n",
              " 'Lasha',\n",
              " 'Lay',\n",
              " 'Leah',\n",
              " 'Lehabim',\n",
              " 'Lest',\n",
              " 'Let',\n",
              " 'Letushim',\n",
              " 'Leummim',\n",
              " 'Levi',\n",
              " 'Lie',\n",
              " 'Lift',\n",
              " 'Lo',\n",
              " 'Look',\n",
              " 'Lot',\n",
              " 'Lotan',\n",
              " 'Lud',\n",
              " 'Ludim',\n",
              " 'Luz',\n",
              " 'Maachah',\n",
              " 'Machir',\n",
              " 'Machpelah',\n",
              " 'Madai',\n",
              " 'Magdiel',\n",
              " 'Magog',\n",
              " 'Mahalaleel',\n",
              " 'Mahalath',\n",
              " 'Mahanaim',\n",
              " 'Make',\n",
              " 'Malchiel',\n",
              " 'Male',\n",
              " 'Mam',\n",
              " 'Mamre',\n",
              " 'Man',\n",
              " 'Manahath',\n",
              " 'Manass',\n",
              " 'Manasseh',\n",
              " 'Mash',\n",
              " 'Masrekah',\n",
              " 'Massa',\n",
              " 'Matred',\n",
              " 'Me',\n",
              " 'Medan',\n",
              " 'Mehetabel',\n",
              " 'Mehujael',\n",
              " 'Melchizedek',\n",
              " 'Merari',\n",
              " 'Mesha',\n",
              " 'Meshech',\n",
              " 'Mesopotamia',\n",
              " 'Methusa',\n",
              " 'Methusael',\n",
              " 'Methuselah',\n",
              " 'Mezahab',\n",
              " 'Mibsam',\n",
              " 'Mibzar',\n",
              " 'Midian',\n",
              " 'Midianites',\n",
              " 'Milcah',\n",
              " 'Mishma',\n",
              " 'Mizpah',\n",
              " 'Mizraim',\n",
              " 'Mizz',\n",
              " 'Moab',\n",
              " 'Moabites',\n",
              " 'Moreh',\n",
              " 'Moreover',\n",
              " 'Moriah',\n",
              " 'Muppim',\n",
              " 'My',\n",
              " 'Naamah',\n",
              " 'Naaman',\n",
              " 'Nahath',\n",
              " 'Nahor',\n",
              " 'Naphish',\n",
              " 'Naphtali',\n",
              " 'Naphtuhim',\n",
              " 'Nay',\n",
              " 'Nebajoth',\n",
              " 'Neither',\n",
              " 'Night',\n",
              " 'Nimrod',\n",
              " 'Nineveh',\n",
              " 'Noah',\n",
              " 'Nod',\n",
              " 'Not',\n",
              " 'Now',\n",
              " 'O',\n",
              " 'Obal',\n",
              " 'Of',\n",
              " 'Oh',\n",
              " 'Ohad',\n",
              " 'Omar',\n",
              " 'On',\n",
              " 'Onam',\n",
              " 'Onan',\n",
              " 'Only',\n",
              " 'Ophir',\n",
              " 'Our',\n",
              " 'Out',\n",
              " 'Padan',\n",
              " 'Padanaram',\n",
              " 'Paran',\n",
              " 'Pass',\n",
              " 'Pathrusim',\n",
              " 'Pau',\n",
              " 'Peace',\n",
              " 'Peleg',\n",
              " 'Peniel',\n",
              " 'Penuel',\n",
              " 'Peradventure',\n",
              " 'Perizzit',\n",
              " 'Perizzite',\n",
              " 'Perizzites',\n",
              " 'Phallu',\n",
              " 'Phara',\n",
              " 'Pharaoh',\n",
              " 'Pharez',\n",
              " 'Phichol',\n",
              " 'Philistim',\n",
              " 'Philistines',\n",
              " 'Phut',\n",
              " 'Phuvah',\n",
              " 'Pildash',\n",
              " 'Pinon',\n",
              " 'Pison',\n",
              " 'Potiphar',\n",
              " 'Potipherah',\n",
              " 'Put',\n",
              " 'Raamah',\n",
              " 'Rachel',\n",
              " 'Rameses',\n",
              " 'Rebek',\n",
              " 'Rebekah',\n",
              " 'Rehoboth',\n",
              " 'Remain',\n",
              " 'Rephaims',\n",
              " 'Resen',\n",
              " 'Return',\n",
              " 'Reu',\n",
              " 'Reub',\n",
              " 'Reuben',\n",
              " 'Reuel',\n",
              " 'Reumah',\n",
              " 'Riphath',\n",
              " 'Rosh',\n",
              " 'Sabtah',\n",
              " 'Sabtech',\n",
              " 'Said',\n",
              " 'Salah',\n",
              " 'Salem',\n",
              " 'Samlah',\n",
              " 'Sarah',\n",
              " 'Sarai',\n",
              " 'Saul',\n",
              " 'Save',\n",
              " 'Say',\n",
              " 'Se',\n",
              " 'Seba',\n",
              " 'See',\n",
              " 'Seeing',\n",
              " 'Seir',\n",
              " 'Sell',\n",
              " 'Send',\n",
              " 'Sephar',\n",
              " 'Serah',\n",
              " 'Sered',\n",
              " 'Serug',\n",
              " 'Set',\n",
              " 'Seth',\n",
              " 'Shalem',\n",
              " 'Shall',\n",
              " 'Shalt',\n",
              " 'Shammah',\n",
              " 'Shaul',\n",
              " 'Shaveh',\n",
              " 'She',\n",
              " 'Sheba',\n",
              " 'Shebah',\n",
              " 'Shechem',\n",
              " 'Shed',\n",
              " 'Shel',\n",
              " 'Shelah',\n",
              " 'Sheleph',\n",
              " 'Shem',\n",
              " 'Shemeber',\n",
              " 'Shepho',\n",
              " 'Shillem',\n",
              " 'Shiloh',\n",
              " 'Shimron',\n",
              " 'Shinab',\n",
              " 'Shinar',\n",
              " 'Shobal',\n",
              " 'Should',\n",
              " 'Shuah',\n",
              " 'Shuni',\n",
              " 'Shur',\n",
              " 'Sichem',\n",
              " 'Siddim',\n",
              " 'Sidon',\n",
              " 'Simeon',\n",
              " 'Sinite',\n",
              " 'Sitnah',\n",
              " 'Slay',\n",
              " 'So',\n",
              " 'Sod',\n",
              " 'Sodom',\n",
              " 'Sojourn',\n",
              " 'Some',\n",
              " 'Spake',\n",
              " 'Speak',\n",
              " 'Spirit',\n",
              " 'Stand',\n",
              " 'Succoth',\n",
              " 'Surely',\n",
              " 'Swear',\n",
              " 'Syrian',\n",
              " 'Take',\n",
              " 'Tamar',\n",
              " 'Tarshish',\n",
              " 'Tebah',\n",
              " 'Tell',\n",
              " 'Tema',\n",
              " 'Teman',\n",
              " 'Temani',\n",
              " 'Terah',\n",
              " 'Thahash',\n",
              " 'That',\n",
              " 'The',\n",
              " 'Then',\n",
              " 'There',\n",
              " 'Therefore',\n",
              " 'These',\n",
              " 'They',\n",
              " 'Thirty',\n",
              " 'This',\n",
              " 'Thorns',\n",
              " 'Thou',\n",
              " 'Thus',\n",
              " 'Thy',\n",
              " 'Tidal',\n",
              " 'Timna',\n",
              " 'Timnah',\n",
              " 'Timnath',\n",
              " 'Tiras',\n",
              " 'To',\n",
              " 'Togarmah',\n",
              " 'Tola',\n",
              " 'Tubal',\n",
              " 'Tubalcain',\n",
              " 'Twelve',\n",
              " 'Two',\n",
              " 'Unstable',\n",
              " 'Until',\n",
              " 'Unto',\n",
              " 'Up',\n",
              " 'Upon',\n",
              " 'Ur',\n",
              " 'Uz',\n",
              " 'Uzal',\n",
              " 'We',\n",
              " 'What',\n",
              " 'When',\n",
              " 'Whence',\n",
              " 'Where',\n",
              " 'Whereas',\n",
              " 'Wherefore',\n",
              " 'Which',\n",
              " 'While',\n",
              " 'Who',\n",
              " 'Whose',\n",
              " 'Whoso',\n",
              " 'Why',\n",
              " 'Wilt',\n",
              " 'With',\n",
              " 'Woman',\n",
              " 'Ye',\n",
              " 'Yea',\n",
              " 'Yet',\n",
              " 'Zaavan',\n",
              " 'Zaphnathpaaneah',\n",
              " 'Zar',\n",
              " 'Zarah',\n",
              " 'Zeboiim',\n",
              " 'Zeboim',\n",
              " 'Zebul',\n",
              " 'Zebulun',\n",
              " 'Zemarite',\n",
              " 'Zepho',\n",
              " 'Zerah',\n",
              " 'Zibeon',\n",
              " 'Zidon',\n",
              " 'Zillah',\n",
              " 'Zilpah',\n",
              " 'Zimran',\n",
              " 'Ziphion',\n",
              " 'Zo',\n",
              " 'Zoar',\n",
              " 'Zohar',\n",
              " 'Zuzims',\n",
              " 'a',\n",
              " 'abated',\n",
              " 'abide',\n",
              " 'able',\n",
              " 'abode',\n",
              " 'abomination',\n",
              " 'about',\n",
              " 'above',\n",
              " 'abroad',\n",
              " 'absent',\n",
              " 'abundantly',\n",
              " 'accept',\n",
              " 'accepted',\n",
              " 'according',\n",
              " 'acknowledged',\n",
              " 'activity',\n",
              " 'add',\n",
              " 'adder',\n",
              " 'afar',\n",
              " 'afflict',\n",
              " 'affliction',\n",
              " 'afraid',\n",
              " 'after',\n",
              " 'afterward',\n",
              " 'afterwards',\n",
              " 'aga',\n",
              " 'again',\n",
              " 'against',\n",
              " 'age',\n",
              " 'aileth',\n",
              " 'air',\n",
              " 'al',\n",
              " 'alive',\n",
              " 'all',\n",
              " 'almon',\n",
              " 'alo',\n",
              " 'alone',\n",
              " 'aloud',\n",
              " 'also',\n",
              " 'altar',\n",
              " 'altogether',\n",
              " 'always',\n",
              " 'am',\n",
              " 'among',\n",
              " 'amongst',\n",
              " 'an',\n",
              " 'and',\n",
              " 'angel',\n",
              " 'angels',\n",
              " 'anger',\n",
              " 'angry',\n",
              " 'anguish',\n",
              " 'anointedst',\n",
              " 'anoth',\n",
              " 'another',\n",
              " 'answer',\n",
              " 'answered',\n",
              " 'any',\n",
              " 'anything',\n",
              " 'appe',\n",
              " 'appear',\n",
              " 'appeared',\n",
              " 'appease',\n",
              " 'appoint',\n",
              " 'appointed',\n",
              " 'aprons',\n",
              " 'archer',\n",
              " 'archers',\n",
              " 'are',\n",
              " 'arise',\n",
              " 'ark',\n",
              " 'armed',\n",
              " 'arms',\n",
              " 'army',\n",
              " 'arose',\n",
              " 'arrayed',\n",
              " 'art',\n",
              " 'artificer',\n",
              " 'as',\n",
              " 'ascending',\n",
              " 'ash',\n",
              " 'ashamed',\n",
              " 'ask',\n",
              " 'asked',\n",
              " 'asketh',\n",
              " 'ass',\n",
              " 'assembly',\n",
              " 'asses',\n",
              " 'assigned',\n",
              " 'asswaged',\n",
              " 'at',\n",
              " 'attained',\n",
              " 'audience',\n",
              " 'avenged',\n",
              " 'aw',\n",
              " 'awaked',\n",
              " 'away',\n",
              " 'awoke',\n",
              " 'back',\n",
              " 'backward',\n",
              " 'bad',\n",
              " 'bade',\n",
              " 'badest',\n",
              " 'badne',\n",
              " 'bak',\n",
              " 'bake',\n",
              " 'bakemeats',\n",
              " 'baker',\n",
              " 'bakers',\n",
              " 'balm',\n",
              " 'bands',\n",
              " 'bank',\n",
              " 'bare',\n",
              " 'barr',\n",
              " 'barren',\n",
              " 'basket',\n",
              " 'baskets',\n",
              " 'battle',\n",
              " 'bdellium',\n",
              " 'be',\n",
              " 'bear',\n",
              " 'beari',\n",
              " 'bearing',\n",
              " 'beast',\n",
              " 'beasts',\n",
              " 'beautiful',\n",
              " 'became',\n",
              " 'because',\n",
              " 'become',\n",
              " 'bed',\n",
              " 'been',\n",
              " 'befall',\n",
              " 'befell',\n",
              " 'before',\n",
              " 'began',\n",
              " 'begat',\n",
              " 'beget',\n",
              " 'begettest',\n",
              " 'begin',\n",
              " 'beginning',\n",
              " 'begotten',\n",
              " 'beguiled',\n",
              " 'beheld',\n",
              " 'behind',\n",
              " 'behold',\n",
              " 'being',\n",
              " 'believed',\n",
              " 'belly',\n",
              " 'belong',\n",
              " 'beneath',\n",
              " 'bereaved',\n",
              " 'beside',\n",
              " 'besides',\n",
              " 'besought',\n",
              " 'best',\n",
              " 'betimes',\n",
              " 'better',\n",
              " 'between',\n",
              " 'betwixt',\n",
              " 'beyond',\n",
              " 'binding',\n",
              " 'bird',\n",
              " 'birds',\n",
              " 'birthday',\n",
              " 'birthright',\n",
              " 'biteth',\n",
              " 'bitter',\n",
              " 'blame',\n",
              " 'blameless',\n",
              " 'blasted',\n",
              " 'bless',\n",
              " 'blessed',\n",
              " 'blesseth',\n",
              " 'blessi',\n",
              " 'blessing',\n",
              " 'blessings',\n",
              " 'blindness',\n",
              " 'blood',\n",
              " 'blossoms',\n",
              " 'bodies',\n",
              " 'boldly',\n",
              " 'bondman',\n",
              " 'bondmen',\n",
              " 'bondwoman',\n",
              " 'bone',\n",
              " 'bones',\n",
              " 'book',\n",
              " 'booths',\n",
              " 'border',\n",
              " 'borders',\n",
              " 'born',\n",
              " 'bosom',\n",
              " 'both',\n",
              " 'bottle',\n",
              " 'bou',\n",
              " 'boug',\n",
              " 'bough',\n",
              " 'bought',\n",
              " 'bound',\n",
              " 'bow',\n",
              " 'bowed',\n",
              " 'bowels',\n",
              " 'bowing',\n",
              " 'boys',\n",
              " 'bracelets',\n",
              " 'branches',\n",
              " 'brass',\n",
              " 'bre',\n",
              " 'breach',\n",
              " 'bread',\n",
              " 'breadth',\n",
              " 'break',\n",
              " 'breaketh',\n",
              " 'breaking',\n",
              " 'breasts',\n",
              " 'breath',\n",
              " 'breathed',\n",
              " 'breed',\n",
              " 'brethren',\n",
              " 'brick',\n",
              " 'brimstone',\n",
              " 'bring',\n",
              " 'brink',\n",
              " 'broken',\n",
              " 'brook',\n",
              " 'broth',\n",
              " 'brother',\n",
              " 'brought',\n",
              " 'brown',\n",
              " 'bruise',\n",
              " 'budded',\n",
              " 'build',\n",
              " 'builded',\n",
              " 'built',\n",
              " 'bulls',\n",
              " 'bundle',\n",
              " 'bundles',\n",
              " 'burdens',\n",
              " 'buried',\n",
              " 'burn',\n",
              " 'burning',\n",
              " 'burnt',\n",
              " 'bury',\n",
              " 'buryingplace',\n",
              " 'business',\n",
              " 'but',\n",
              " 'butler',\n",
              " 'butlers',\n",
              " 'butlership',\n",
              " 'butter',\n",
              " 'buy',\n",
              " 'by',\n",
              " 'cakes',\n",
              " 'calf',\n",
              " 'call',\n",
              " 'called',\n",
              " 'came',\n",
              " 'camel',\n",
              " 'camels',\n",
              " 'camest',\n",
              " 'can',\n",
              " 'cannot',\n",
              " 'canst',\n",
              " 'captain',\n",
              " 'captive',\n",
              " 'captives',\n",
              " 'carcases',\n",
              " 'carried',\n",
              " 'carry',\n",
              " 'cast',\n",
              " 'castles',\n",
              " 'catt',\n",
              " 'cattle',\n",
              " 'caught',\n",
              " 'cause',\n",
              " 'caused',\n",
              " 'cave',\n",
              " 'cease',\n",
              " 'ceased',\n",
              " 'certain',\n",
              " 'certainly',\n",
              " 'chain',\n",
              " 'chamber',\n",
              " 'change',\n",
              " 'changed',\n",
              " 'changes',\n",
              " 'charge',\n",
              " 'charged',\n",
              " 'chariot',\n",
              " 'chariots',\n",
              " 'chesnut',\n",
              " 'chi',\n",
              " 'chief',\n",
              " 'child',\n",
              " 'childless',\n",
              " 'childr',\n",
              " 'children',\n",
              " 'chode',\n",
              " 'choice',\n",
              " 'chose',\n",
              " 'circumcis',\n",
              " 'circumcise',\n",
              " 'circumcised',\n",
              " 'citi',\n",
              " 'cities',\n",
              " 'city',\n",
              " 'clave',\n",
              " 'clean',\n",
              " 'clear',\n",
              " 'cleave',\n",
              " 'clo',\n",
              " 'closed',\n",
              " 'clothed',\n",
              " 'clothes',\n",
              " 'cloud',\n",
              " 'clusters',\n",
              " 'co',\n",
              " 'coat',\n",
              " 'coats',\n",
              " 'coffin',\n",
              " 'cold',\n",
              " ...]"
            ]
          },
          "metadata": {},
          "execution_count": 22
        }
      ]
    },
    {
      "cell_type": "markdown",
      "source": [
        "How many distinct words does the book of Genesis contain?"
      ],
      "metadata": {
        "id": "mk2j4Nv4xQab"
      }
    },
    {
      "cell_type": "markdown",
      "source": [
        " Although it has 44,764 tokens, this book has only 2,789 distinct words, or \"word types.\" A word type is the form or spelling of the word independently of its specific occurrences in a text — that is, the word considered as a unique item of vocabulary. Our count of 2,789 items will include punctuation symbols, so we will generally call these unique items types instead of word types."
      ],
      "metadata": {
        "id": "LvZbT68s0Yw6"
      }
    },
    {
      "cell_type": "code",
      "source": [
        "len(set(text3))"
      ],
      "metadata": {
        "colab": {
          "base_uri": "https://localhost:8080/"
        },
        "id": "VKA9TOxLsB4u",
        "outputId": "88f19fc9-43d8-49f1-eacd-81c5e1056c21"
      },
      "execution_count": 23,
      "outputs": [
        {
          "output_type": "execute_result",
          "data": {
            "text/plain": [
              "2789"
            ]
          },
          "metadata": {},
          "execution_count": 23
        }
      ]
    },
    {
      "cell_type": "markdown",
      "source": [
        "We can count how often a word occurs in a text, and compute what percentage of the text is taken up by a specific word."
      ],
      "metadata": {
        "id": "RMSJeqxE1FjQ"
      }
    },
    {
      "cell_type": "code",
      "source": [
        "text3.count(\"smote\")"
      ],
      "metadata": {
        "colab": {
          "base_uri": "https://localhost:8080/"
        },
        "id": "8FdWJcs-sT-X",
        "outputId": "5e9ae16b-b698-4e4c-deb1-878308f56704"
      },
      "execution_count": 24,
      "outputs": [
        {
          "output_type": "execute_result",
          "data": {
            "text/plain": [
              "5"
            ]
          },
          "metadata": {},
          "execution_count": 24
        }
      ]
    },
    {
      "cell_type": "code",
      "source": [
        "text5.count(\"lol\") / len(set(text5)) * 100"
      ],
      "metadata": {
        "colab": {
          "base_uri": "https://localhost:8080/"
        },
        "id": "mUBSpSrH0ng4",
        "outputId": "8a3dfa11-c9c3-4631-fb4a-d2b6e8345f1c"
      },
      "execution_count": 26,
      "outputs": [
        {
          "output_type": "execute_result",
          "data": {
            "text/plain": [
              "11.60567095285196"
            ]
          },
          "metadata": {},
          "execution_count": 26
        }
      ]
    },
    {
      "cell_type": "markdown",
      "source": [
        "A text is a list of words."
      ],
      "metadata": {
        "id": "xzpFV1Bq5Aox"
      }
    },
    {
      "cell_type": "code",
      "source": [
        "sent3"
      ],
      "metadata": {
        "colab": {
          "base_uri": "https://localhost:8080/"
        },
        "id": "64EwSb-q0u8j",
        "outputId": "88b6b482-81a4-4bc9-e8a2-82910e6eafc0"
      },
      "execution_count": 28,
      "outputs": [
        {
          "output_type": "execute_result",
          "data": {
            "text/plain": [
              "['In',\n",
              " 'the',\n",
              " 'beginning',\n",
              " 'God',\n",
              " 'created',\n",
              " 'the',\n",
              " 'heaven',\n",
              " 'and',\n",
              " 'the',\n",
              " 'earth',\n",
              " '.']"
            ]
          },
          "metadata": {},
          "execution_count": 28
        }
      ]
    },
    {
      "cell_type": "markdown",
      "source": [
        "You can define your own sentence and apply the functions as we saw earlier."
      ],
      "metadata": {
        "id": "b_YnKppb5Eea"
      }
    },
    {
      "cell_type": "code",
      "source": [
        "my_sent = [\"My\", \"name\", \"is\", \"Behnaz\", \"and\", \"you\", \"are\", \"?\"]"
      ],
      "metadata": {
        "id": "eLiFe7jw34Pb"
      },
      "execution_count": 29,
      "outputs": []
    },
    {
      "cell_type": "code",
      "source": [
        "sorted(my_sent)"
      ],
      "metadata": {
        "colab": {
          "base_uri": "https://localhost:8080/"
        },
        "id": "OGWgGfgc4KmE",
        "outputId": "6d31bcfa-586a-4bd3-b254-85f3d134e816"
      },
      "execution_count": 30,
      "outputs": [
        {
          "output_type": "execute_result",
          "data": {
            "text/plain": [
              "['?', 'Behnaz', 'My', 'and', 'are', 'is', 'name', 'you']"
            ]
          },
          "metadata": {},
          "execution_count": 30
        }
      ]
    },
    {
      "cell_type": "code",
      "source": [
        "len(set(my_sent))"
      ],
      "metadata": {
        "colab": {
          "base_uri": "https://localhost:8080/"
        },
        "id": "TsIgqojl4Nuo",
        "outputId": "db7241fa-6479-4c5a-dd9b-b8d8596d2222"
      },
      "execution_count": 31,
      "outputs": [
        {
          "output_type": "execute_result",
          "data": {
            "text/plain": [
              "8"
            ]
          },
          "metadata": {},
          "execution_count": 31
        }
      ]
    },
    {
      "cell_type": "code",
      "source": [
        "my_sent.count(\"you\")"
      ],
      "metadata": {
        "colab": {
          "base_uri": "https://localhost:8080/"
        },
        "id": "hvpNrDDg4R5b",
        "outputId": "d3fc9e2e-6bbc-4860-c039-2b04c24ca860"
      },
      "execution_count": 32,
      "outputs": [
        {
          "output_type": "execute_result",
          "data": {
            "text/plain": [
              "1"
            ]
          },
          "metadata": {},
          "execution_count": 32
        }
      ]
    },
    {
      "cell_type": "markdown",
      "source": [
        "We can find a word in the text with a certain index.\n",
        "\n",
        "Note that indexes start at 0 and  if we accidentally use an index that is too large, we get an error."
      ],
      "metadata": {
        "id": "W0QaJ2Zg5lgf"
      }
    },
    {
      "cell_type": "code",
      "source": [
        "text4[173]"
      ],
      "metadata": {
        "colab": {
          "base_uri": "https://localhost:8080/",
          "height": 36
        },
        "id": "sXZLwU5h4Wvr",
        "outputId": "bfadd55b-eb47-4bdf-8c0f-e92b4e3ea1e5"
      },
      "execution_count": 33,
      "outputs": [
        {
          "output_type": "execute_result",
          "data": {
            "text/plain": [
              "'awaken'"
            ],
            "application/vnd.google.colaboratory.intrinsic+json": {
              "type": "string"
            }
          },
          "metadata": {},
          "execution_count": 33
        }
      ]
    },
    {
      "cell_type": "markdown",
      "source": [
        "Or find the first accurance of the word in the text."
      ],
      "metadata": {
        "id": "Y91UBHfe5xzq"
      }
    },
    {
      "cell_type": "code",
      "source": [
        "text4.index('awaken')"
      ],
      "metadata": {
        "colab": {
          "base_uri": "https://localhost:8080/"
        },
        "id": "oxjgQI585jNX",
        "outputId": "ce09438f-b903-4af5-a54f-2ee0b8df5616"
      },
      "execution_count": 34,
      "outputs": [
        {
          "output_type": "execute_result",
          "data": {
            "text/plain": [
              "173"
            ]
          },
          "metadata": {},
          "execution_count": 34
        }
      ]
    },
    {
      "cell_type": "markdown",
      "source": [
        "Python permits us to access sublists as well, extracting manageable pieces of language from large texts, a technique known as slicing. By convention, m:n means elements m…n-1."
      ],
      "metadata": {
        "id": "ZBZcR_AP6Cnm"
      }
    },
    {
      "cell_type": "code",
      "source": [
        "text5[16715:16735]"
      ],
      "metadata": {
        "colab": {
          "base_uri": "https://localhost:8080/"
        },
        "id": "c1m1-LMA5xBn",
        "outputId": "13df879b-0b6e-4df1-a12a-153f62f3e987"
      },
      "execution_count": 35,
      "outputs": [
        {
          "output_type": "execute_result",
          "data": {
            "text/plain": [
              "['U86',\n",
              " 'thats',\n",
              " 'why',\n",
              " 'something',\n",
              " 'like',\n",
              " 'gamefly',\n",
              " 'is',\n",
              " 'so',\n",
              " 'good',\n",
              " 'because',\n",
              " 'you',\n",
              " 'can',\n",
              " 'actually',\n",
              " 'play',\n",
              " 'a',\n",
              " 'full',\n",
              " 'game',\n",
              " 'without',\n",
              " 'buying',\n",
              " 'it']"
            ]
          },
          "metadata": {},
          "execution_count": 35
        }
      ]
    },
    {
      "cell_type": "markdown",
      "source": [
        "As the next example shows, we can omit the first number if the slice begins at the start of the list, and we can omit the second number if the slice goes to the end:"
      ],
      "metadata": {
        "id": "E1N8eNtA7L2h"
      }
    },
    {
      "cell_type": "code",
      "source": [
        "my_sent[:3]"
      ],
      "metadata": {
        "colab": {
          "base_uri": "https://localhost:8080/"
        },
        "id": "yb3cscEU5-XT",
        "outputId": "7ebf37a1-abb0-4e69-e463-48e489062e9b"
      },
      "execution_count": 36,
      "outputs": [
        {
          "output_type": "execute_result",
          "data": {
            "text/plain": [
              "['My', 'name', 'is']"
            ]
          },
          "metadata": {},
          "execution_count": 36
        }
      ]
    },
    {
      "cell_type": "code",
      "source": [
        "text2[141525:]"
      ],
      "metadata": {
        "colab": {
          "base_uri": "https://localhost:8080/"
        },
        "id": "8jxAqc9W7VbT",
        "outputId": "43b17541-9519-4be1-d08d-86bc8fc56187"
      },
      "execution_count": 37,
      "outputs": [
        {
          "output_type": "execute_result",
          "data": {
            "text/plain": [
              "['among',\n",
              " 'the',\n",
              " 'merits',\n",
              " 'and',\n",
              " 'the',\n",
              " 'happiness',\n",
              " 'of',\n",
              " 'Elinor',\n",
              " 'and',\n",
              " 'Marianne',\n",
              " ',',\n",
              " 'let',\n",
              " 'it',\n",
              " 'not',\n",
              " 'be',\n",
              " 'ranked',\n",
              " 'as',\n",
              " 'the',\n",
              " 'least',\n",
              " 'considerable',\n",
              " ',',\n",
              " 'that',\n",
              " 'though',\n",
              " 'sisters',\n",
              " ',',\n",
              " 'and',\n",
              " 'living',\n",
              " 'almost',\n",
              " 'within',\n",
              " 'sight',\n",
              " 'of',\n",
              " 'each',\n",
              " 'other',\n",
              " ',',\n",
              " 'they',\n",
              " 'could',\n",
              " 'live',\n",
              " 'without',\n",
              " 'disagreement',\n",
              " 'between',\n",
              " 'themselves',\n",
              " ',',\n",
              " 'or',\n",
              " 'producing',\n",
              " 'coolness',\n",
              " 'between',\n",
              " 'their',\n",
              " 'husbands',\n",
              " '.',\n",
              " 'THE',\n",
              " 'END']"
            ]
          },
          "metadata": {},
          "execution_count": 37
        }
      ]
    },
    {
      "cell_type": "markdown",
      "source": [
        "We can modify an element of a list by assigning to one of its index values."
      ],
      "metadata": {
        "id": "u65UmGKX7eH6"
      }
    },
    {
      "cell_type": "code",
      "source": [
        "my_sent[0] = 'First'"
      ],
      "metadata": {
        "id": "fGhYhZ0k7Wtt"
      },
      "execution_count": 38,
      "outputs": []
    },
    {
      "cell_type": "code",
      "source": [
        "my_sent"
      ],
      "metadata": {
        "colab": {
          "base_uri": "https://localhost:8080/"
        },
        "id": "MzWzq88u7iY9",
        "outputId": "9a981e64-b967-43cb-cfa8-e000aa00065e"
      },
      "execution_count": 39,
      "outputs": [
        {
          "output_type": "execute_result",
          "data": {
            "text/plain": [
              "['First', 'name', 'is', 'Behnaz', 'and', 'you', 'are', '?']"
            ]
          },
          "metadata": {},
          "execution_count": 39
        }
      ]
    },
    {
      "cell_type": "markdown",
      "source": [
        "We can also replace an entire slice with new material."
      ],
      "metadata": {
        "id": "n8ro9o2l7uDR"
      }
    },
    {
      "cell_type": "code",
      "source": [
        "my_sent[1:9] = ['Second', 'Third']"
      ],
      "metadata": {
        "id": "wBQAVHei7jss"
      },
      "execution_count": 40,
      "outputs": []
    },
    {
      "cell_type": "code",
      "source": [
        "my_sent"
      ],
      "metadata": {
        "colab": {
          "base_uri": "https://localhost:8080/"
        },
        "id": "ABe0AOcX7oer",
        "outputId": "b119f206-2f18-4eb7-8da0-9c19a2f163b2"
      },
      "execution_count": 41,
      "outputs": [
        {
          "output_type": "execute_result",
          "data": {
            "text/plain": [
              "['First', 'Second', 'Third']"
            ]
          },
          "metadata": {},
          "execution_count": 41
        }
      ]
    },
    {
      "cell_type": "markdown",
      "source": [
        "We can join the words of a list to make a single string, or split a string into a list, as follows:"
      ],
      "metadata": {
        "id": "g0O_wLBmFu0M"
      }
    },
    {
      "cell_type": "code",
      "source": [
        "' '.join(['Monty', 'Python'])"
      ],
      "metadata": {
        "colab": {
          "base_uri": "https://localhost:8080/",
          "height": 36
        },
        "id": "w5s8GrwH7pdg",
        "outputId": "807ae29b-5822-4ff4-e6a2-293ed0975d1b"
      },
      "execution_count": 42,
      "outputs": [
        {
          "output_type": "execute_result",
          "data": {
            "text/plain": [
              "'Monty Python'"
            ],
            "application/vnd.google.colaboratory.intrinsic+json": {
              "type": "string"
            }
          },
          "metadata": {},
          "execution_count": 42
        }
      ]
    },
    {
      "cell_type": "code",
      "source": [
        "'Monty Python'.split()"
      ],
      "metadata": {
        "colab": {
          "base_uri": "https://localhost:8080/"
        },
        "id": "H74LlYP-FycV",
        "outputId": "be82e996-7b65-48bb-990d-973e6019e939"
      },
      "execution_count": 43,
      "outputs": [
        {
          "output_type": "execute_result",
          "data": {
            "text/plain": [
              "['Monty', 'Python']"
            ]
          },
          "metadata": {},
          "execution_count": 43
        }
      ]
    },
    {
      "cell_type": "code",
      "source": [
        "saying = ['After', 'all', 'is', 'said', 'and', 'done', 'more', 'is', 'said', 'than', 'done']\n",
        "tokens = set(saying)\n",
        "tokens = sorted(tokens)\n",
        "tokens[-2:]"
      ],
      "metadata": {
        "colab": {
          "base_uri": "https://localhost:8080/"
        },
        "id": "nzvQh7BAF1vd",
        "outputId": "c5585518-7093-49bd-be09-869de27ca9ca"
      },
      "execution_count": 44,
      "outputs": [
        {
          "output_type": "execute_result",
          "data": {
            "text/plain": [
              "['said', 'than']"
            ]
          },
          "metadata": {},
          "execution_count": 44
        }
      ]
    },
    {
      "cell_type": "markdown",
      "source": [
        "Since we often need frequency distributions in language processing, NLTK provides built-in support for them. Let's use a FreqDist to find the 50 most frequent words of Moby Dick:"
      ],
      "metadata": {
        "id": "J1dZFfDOHqvd"
      }
    },
    {
      "cell_type": "code",
      "source": [
        "fdist = FreqDist(text1)\n",
        "print(fdist)"
      ],
      "metadata": {
        "colab": {
          "base_uri": "https://localhost:8080/"
        },
        "id": "DphUFDNtG9KM",
        "outputId": "1f81b062-44da-4a55-d31d-a71677ef3e4c"
      },
      "execution_count": 45,
      "outputs": [
        {
          "output_type": "stream",
          "name": "stdout",
          "text": [
            "<FreqDist with 19317 samples and 260819 outcomes>\n"
          ]
        }
      ]
    },
    {
      "cell_type": "code",
      "source": [
        "fdist.most_common(50)"
      ],
      "metadata": {
        "colab": {
          "base_uri": "https://localhost:8080/"
        },
        "id": "rDt8l4eMHcZd",
        "outputId": "05909656-6732-4835-80d5-f3008b783743"
      },
      "execution_count": 46,
      "outputs": [
        {
          "output_type": "execute_result",
          "data": {
            "text/plain": [
              "[(',', 18713),\n",
              " ('the', 13721),\n",
              " ('.', 6862),\n",
              " ('of', 6536),\n",
              " ('and', 6024),\n",
              " ('a', 4569),\n",
              " ('to', 4542),\n",
              " (';', 4072),\n",
              " ('in', 3916),\n",
              " ('that', 2982),\n",
              " (\"'\", 2684),\n",
              " ('-', 2552),\n",
              " ('his', 2459),\n",
              " ('it', 2209),\n",
              " ('I', 2124),\n",
              " ('s', 1739),\n",
              " ('is', 1695),\n",
              " ('he', 1661),\n",
              " ('with', 1659),\n",
              " ('was', 1632),\n",
              " ('as', 1620),\n",
              " ('\"', 1478),\n",
              " ('all', 1462),\n",
              " ('for', 1414),\n",
              " ('this', 1280),\n",
              " ('!', 1269),\n",
              " ('at', 1231),\n",
              " ('by', 1137),\n",
              " ('but', 1113),\n",
              " ('not', 1103),\n",
              " ('--', 1070),\n",
              " ('him', 1058),\n",
              " ('from', 1052),\n",
              " ('be', 1030),\n",
              " ('on', 1005),\n",
              " ('so', 918),\n",
              " ('whale', 906),\n",
              " ('one', 889),\n",
              " ('you', 841),\n",
              " ('had', 767),\n",
              " ('have', 760),\n",
              " ('there', 715),\n",
              " ('But', 705),\n",
              " ('or', 697),\n",
              " ('were', 680),\n",
              " ('now', 646),\n",
              " ('which', 640),\n",
              " ('?', 637),\n",
              " ('me', 627),\n",
              " ('like', 624)]"
            ]
          },
          "metadata": {},
          "execution_count": 46
        }
      ]
    },
    {
      "cell_type": "code",
      "source": [
        "fdist['whale']"
      ],
      "metadata": {
        "colab": {
          "base_uri": "https://localhost:8080/"
        },
        "id": "971E_ryGHfwn",
        "outputId": "16e95f25-679a-4dc3-a017-b5c5f28db531"
      },
      "execution_count": 47,
      "outputs": [
        {
          "output_type": "execute_result",
          "data": {
            "text/plain": [
              "906"
            ]
          },
          "metadata": {},
          "execution_count": 47
        }
      ]
    },
    {
      "cell_type": "markdown",
      "source": [
        "We can generate a cumulative frequency plot for these words."
      ],
      "metadata": {
        "id": "t4z7QWLSIl-g"
      }
    },
    {
      "cell_type": "code",
      "source": [
        "fdist.plot(50, cumulative=True)"
      ],
      "metadata": {
        "colab": {
          "base_uri": "https://localhost:8080/",
          "height": 518
        },
        "id": "FAT3XAUzIDxh",
        "outputId": "5cff234e-2915-4ba7-f51f-117e69573e2b"
      },
      "execution_count": 53,
      "outputs": [
        {
          "output_type": "execute_result",
          "data": {
            "text/plain": [
              "<Axes: xlabel='Samples', ylabel='Cumulative Counts'>"
            ]
          },
          "metadata": {},
          "execution_count": 53
        },
        {
          "output_type": "display_data",
          "data": {
            "text/plain": [
              "<Figure size 640x480 with 1 Axes>"
            ],
            "image/png": "[encoded data removed]"
          },
          "metadata": {}
        }
      ]
    },
    {
      "cell_type": "markdown",
      "source": [
        "How about the words that occur once only, the so-called hapaxes?"
      ],
      "metadata": {
        "id": "dxr6fhJLI3jW"
      }
    },
    {
      "cell_type": "code",
      "source": [
        "fdist.hapaxes()"
      ],
      "metadata": {
        "colab": {
          "base_uri": "https://localhost:8080/"
        },
        "id": "BcCSaaf7IaKk",
        "outputId": "056f8662-5003-4ffb-b44e-8269ccfee68a"
      },
      "execution_count": 54,
      "outputs": [
        {
          "output_type": "execute_result",
          "data": {
            "text/plain": [
              "['Sense',\n",
              " 'Sensibility',\n",
              " 'Jane',\n",
              " 'Austen',\n",
              " '1811',\n",
              " ']',\n",
              " 'generations',\n",
              " 'inheritor',\n",
              " 'bequeath',\n",
              " 'Gentleman',\n",
              " 'relish',\n",
              " 'devolved',\n",
              " 'inheriting',\n",
              " 'moiety',\n",
              " 'bequest',\n",
              " 'sale',\n",
              " 'articulation',\n",
              " 'economically',\n",
              " 'tardy',\n",
              " 'survived',\n",
              " 'including',\n",
              " 'legacies',\n",
              " 'urgency',\n",
              " 'prudently',\n",
              " 'caricature',\n",
              " 'warmed',\n",
              " 'Three',\n",
              " 'successively',\n",
              " 'funeral',\n",
              " 'dispute',\n",
              " 'decease',\n",
              " 'indelicacy',\n",
              " 'keen',\n",
              " 'whomsoever',\n",
              " 'immoveable',\n",
              " 'acutely',\n",
              " 'qualified',\n",
              " 'counsellor',\n",
              " 'joys',\n",
              " 'afflicted',\n",
              " 'strive',\n",
              " 'humored',\n",
              " 'imbibed',\n",
              " 'romance',\n",
              " 'thirteen',\n",
              " '2',\n",
              " 'installed',\n",
              " 'degraded',\n",
              " 'seasons',\n",
              " 'alloy',\n",
              " 'impoverishing',\n",
              " 'headed',\n",
              " 'stipulate',\n",
              " 'LET',\n",
              " 'diminished',\n",
              " 'REALLY',\n",
              " 'strikes',\n",
              " 'Fifteen',\n",
              " 'healthy',\n",
              " 'clogged',\n",
              " 'superannuated',\n",
              " 'amazing',\n",
              " 'restriction',\n",
              " 'drains',\n",
              " 'bind',\n",
              " 'inconvenient',\n",
              " 'enlarge',\n",
              " 'sixpence',\n",
              " 'discharging',\n",
              " 'presents',\n",
              " 'fish',\n",
              " 'Altogether',\n",
              " 'cheap',\n",
              " 'fulfil',\n",
              " 'removes',\n",
              " 'stock',\n",
              " 'belongs',\n",
              " 'indecorous',\n",
              " 'neighbourly',\n",
              " '3',\n",
              " 'remembrances',\n",
              " 'indefatigable',\n",
              " 'steadier',\n",
              " 'earthly',\n",
              " '7000L',\n",
              " 'repressed',\n",
              " 'uninfluenced',\n",
              " 'asunder',\n",
              " 'political',\n",
              " 'parliament',\n",
              " 'barouches',\n",
              " 'centered',\n",
              " 'forcibly',\n",
              " 'implies',\n",
              " 'militated',\n",
              " 'uninteresting',\n",
              " 'Music',\n",
              " 'draws',\n",
              " 'connoisseur',\n",
              " 'coincide',\n",
              " 'impenetrable',\n",
              " 'prose',\n",
              " 'virtues',\n",
              " 'ornament',\n",
              " 'destiny',\n",
              " '4',\n",
              " 'distrusts',\n",
              " 'innate',\n",
              " 'cordial',\n",
              " 'tastes',\n",
              " 'worthy',\n",
              " 'keeps',\n",
              " 'literature',\n",
              " 'imperfection',\n",
              " 'Esteem',\n",
              " 'Cold',\n",
              " 'Ashamed',\n",
              " 'outstripped',\n",
              " 'stimulated',\n",
              " 'prosperous',\n",
              " 'denote',\n",
              " 'unpromising',\n",
              " 'inquietude',\n",
              " 'forbade',\n",
              " 'aggrandizement',\n",
              " 'uncivil',\n",
              " 'DRAW',\n",
              " 'IN',\n",
              " 'endeavor',\n",
              " 'deliberation',\n",
              " 'scale',\n",
              " 'vicinity',\n",
              " '5',\n",
              " 'dispatched',\n",
              " 'incommode',\n",
              " 'inhabiting',\n",
              " 'civilly',\n",
              " 'replying',\n",
              " 'northward',\n",
              " 'disapprobation',\n",
              " 'conscientiously',\n",
              " 'impracticable',\n",
              " 'consisted',\n",
              " 'packages',\n",
              " 'depart',\n",
              " 'west',\n",
              " 'disposing',\n",
              " 'undoubtingly',\n",
              " 'feebly',\n",
              " 'drift',\n",
              " 'purse',\n",
              " 'calculation',\n",
              " 'ye',\n",
              " 'branch',\n",
              " '6',\n",
              " 'Valley',\n",
              " 'fertile',\n",
              " 'wooded',\n",
              " 'pasture',\n",
              " 'demesne',\n",
              " 'wicket',\n",
              " 'defective',\n",
              " 'tiled',\n",
              " 'shutters',\n",
              " 'honeysuckles',\n",
              " 'garrets',\n",
              " 'cheered',\n",
              " 'recommending',\n",
              " 'cultivated',\n",
              " 'woody',\n",
              " 'terminated',\n",
              " 'branched',\n",
              " 'steepest',\n",
              " 'parlors',\n",
              " 'remainder',\n",
              " 'garret',\n",
              " 'widen',\n",
              " 'alterations',\n",
              " 'savings',\n",
              " 'endeavoring',\n",
              " 'unpacked',\n",
              " 'affixed',\n",
              " 'landlord',\n",
              " 'sociable',\n",
              " 'denoting',\n",
              " 'detract',\n",
              " 'Conversation',\n",
              " 'chatty',\n",
              " 'differed',\n",
              " '7',\n",
              " 'screened',\n",
              " 'projection',\n",
              " 'hospitality',\n",
              " 'dissimilar',\n",
              " 'talent',\n",
              " 'unconnected',\n",
              " 'compass',\n",
              " 'hunted',\n",
              " 'resources',\n",
              " 'Continual',\n",
              " 'piqued',\n",
              " 'collecting',\n",
              " 'noisier',\n",
              " 'juvenile',\n",
              " 'ham',\n",
              " 'chicken',\n",
              " 'unsatiable',\n",
              " 'females',\n",
              " 'manor',\n",
              " 'moonlight',\n",
              " 'Luckily',\n",
              " 'fat',\n",
              " 'witty',\n",
              " 'hearts',\n",
              " 'pretended',\n",
              " 'blush',\n",
              " 'attacks',\n",
              " 'adapted',\n",
              " 'repulsive',\n",
              " 'boisterous',\n",
              " 'tore',\n",
              " 'unlocked',\n",
              " 'songs',\n",
              " 'lain',\n",
              " 'position',\n",
              " 'celebrated',\n",
              " 'applauded',\n",
              " 'sing',\n",
              " 'forfeited',\n",
              " 'shameless',\n",
              " 'amounted',\n",
              " 'ecstatic',\n",
              " 'sympathize',\n",
              " 'estimable',\n",
              " 'contrasted',\n",
              " 'insensibility',\n",
              " '8',\n",
              " 'ample',\n",
              " 'respectably',\n",
              " 'promotion',\n",
              " 'zealously',\n",
              " 'weddings',\n",
              " 'blushes',\n",
              " 'decisively',\n",
              " 'accusation',\n",
              " 'protect',\n",
              " 'Infirmity',\n",
              " 'rheumatism',\n",
              " 'miracle',\n",
              " 'losing',\n",
              " 'commercial',\n",
              " 'dooming',\n",
              " 'rheumatic',\n",
              " 'waistcoats',\n",
              " 'cramps',\n",
              " 'rheumatisms',\n",
              " 'afflict',\n",
              " 'feeble',\n",
              " 'despised',\n",
              " 'Confess',\n",
              " 'flushed',\n",
              " 'Soon',\n",
              " 'grate',\n",
              " 'bedchamber',\n",
              " 'unaccountably',\n",
              " 'dejected',\n",
              " '9',\n",
              " 'familiar',\n",
              " 'occupation',\n",
              " 'classed',\n",
              " 'reminding',\n",
              " 'possessor',\n",
              " 'stirred',\n",
              " 'abounded',\n",
              " 'alternative',\n",
              " 'valleys',\n",
              " 'memorable',\n",
              " 'sunshine',\n",
              " 'tempting',\n",
              " 'pencil',\n",
              " 'threatening',\n",
              " 'cloud',\n",
              " 'blue',\n",
              " 'faces',\n",
              " 'gales',\n",
              " 'westerly',\n",
              " 'resisting',\n",
              " 'heads',\n",
              " 'Chagrined',\n",
              " 'exigence',\n",
              " 'speed',\n",
              " 'pointers',\n",
              " 'apologized',\n",
              " 'gracefulness',\n",
              " 'theme',\n",
              " 'gallantry',\n",
              " 'lifting',\n",
              " 'hero',\n",
              " 'dresses',\n",
              " 'shooting',\n",
              " 'jacket',\n",
              " 'sprained',\n",
              " 'ankle',\n",
              " 'indignantly',\n",
              " 'black',\n",
              " 'bitch',\n",
              " 'shades',\n",
              " 'Court',\n",
              " 'inherit',\n",
              " 'adding',\n",
              " 'incommoded',\n",
              " 'CATCHING',\n",
              " 'Men',\n",
              " 'hop',\n",
              " 'danced',\n",
              " 'abhor',\n",
              " 'odious',\n",
              " 'gross',\n",
              " 'construction',\n",
              " 'deemed',\n",
              " 'ingenuity',\n",
              " 'smitten',\n",
              " 'spraining',\n",
              " 'ankles',\n",
              " '10',\n",
              " 'preserver',\n",
              " 'precision',\n",
              " 'styled',\n",
              " 'cant',\n",
              " 'outraged',\n",
              " 'transparency',\n",
              " 'hardily',\n",
              " 'passionately',\n",
              " 'largest',\n",
              " 'conformity',\n",
              " 'Encouraged',\n",
              " 'convert',\n",
              " 'passages',\n",
              " 'idolized',\n",
              " 'acquiesced',\n",
              " 'decisions',\n",
              " 'Pope',\n",
              " 'exhausted',\n",
              " 'scanty',\n",
              " 'roads',\n",
              " 'jest',\n",
              " 'irksome',\n",
              " 'persons',\n",
              " 'sacrificing',\n",
              " 'undivided',\n",
              " 'slighting',\n",
              " 'desperation',\n",
              " 'seized',\n",
              " 'rash',\n",
              " 'delineated',\n",
              " 'brighter',\n",
              " 'speculative',\n",
              " 'incurred',\n",
              " 'annexed',\n",
              " 'successful',\n",
              " 'mild',\n",
              " 'gloominess',\n",
              " 'undervalue',\n",
              " 'remembers',\n",
              " 'patronised',\n",
              " 'indignity',\n",
              " 'contemptuously',\n",
              " 'climate',\n",
              " 'mosquitoes',\n",
              " 'nabobs',\n",
              " 'mohrs',\n",
              " 'palanquins',\n",
              " 'coats',\n",
              " 'Add',\n",
              " 'brilliancy',\n",
              " 'imperfections',\n",
              " 'mass',\n",
              " 'possessing',\n",
              " 'disarm',\n",
              " 'mare',\n",
              " '11',\n",
              " 'occupy',\n",
              " 'execution',\n",
              " 'included',\n",
              " 'witnessing',\n",
              " 'excellencies',\n",
              " 'marking',\n",
              " 'aim',\n",
              " 'illaudable',\n",
              " 'illustration',\n",
              " 'partners',\n",
              " 'dances',\n",
              " 'everlasting',\n",
              " 'talker',\n",
              " 'history',\n",
              " 'sisterly',\n",
              " 'accidently',\n",
              " 'contrives',\n",
              " 'basis',\n",
              " 'define',\n",
              " 'prejudices',\n",
              " 'systems',\n",
              " 'nought',\n",
              " 'resumed',\n",
              " 'criminal',\n",
              " 'minutiae',\n",
              " 'pardonable',\n",
              " 'refinements',\n",
              " 'connect',\n",
              " 'disastrous',\n",
              " '12',\n",
              " 'arrives',\n",
              " 'Imagine',\n",
              " 'gallop',\n",
              " 'awaken',\n",
              " 'dream',\n",
              " 'truths',\n",
              " 'Seven',\n",
              " 'Opposition',\n",
              " 'appeal',\n",
              " 'representing',\n",
              " 'faithful',\n",
              " 'forego',\n",
              " 'Queen',\n",
              " 'Mab',\n",
              " 'overheard',\n",
              " 'tempers',\n",
              " 'clearer',\n",
              " 'Down',\n",
              " 'whispering',\n",
              " 'tumbled',\n",
              " 'stated',\n",
              " 'unison',\n",
              " 'attacked',\n",
              " 'curate',\n",
              " 'invention',\n",
              " 'begins',\n",
              " 'inelegant',\n",
              " 'mindful',\n",
              " 'amidst',\n",
              " 'proprietor',\n",
              " 'sail',\n",
              " 'provisions',\n",
              " 'undertaking',\n",
              " '13',\n",
              " 'dispersing',\n",
              " 'hardships',\n",
              " 'None',\n",
              " 'trick',\n",
              " 'Newton',\n",
              " 'conveniently',\n",
              " 'pry',\n",
              " 'stare',\n",
              " 'consultation',\n",
              " 'leant',\n",
              " 'Impudence',\n",
              " 'WHERE',\n",
              " 'propose',\n",
              " 'enquired',\n",
              " 'pleasanter',\n",
              " 'pleasantness',\n",
              " 'evince',\n",
              " 'bowling',\n",
              " 'newly',\n",
              " 'pleasantest',\n",
              " '14',\n",
              " 'termination',\n",
              " 'wonderer',\n",
              " 'comings',\n",
              " 'goings',\n",
              " 'befallen',\n",
              " 'wager',\n",
              " 'speculation',\n",
              " 'incompatible',\n",
              " 'contradictory',\n",
              " 'ending',\n",
              " 'happening',\n",
              " 'Improve',\n",
              " 'inch',\n",
              " 'local',\n",
              " 'unemployed',\n",
              " 'uselessly',\n",
              " 'pull',\n",
              " 'smokes',\n",
              " 'INconvenience',\n",
              " 'broader',\n",
              " 'endear',\n",
              " 'denoted',\n",
              " 'inhabited',\n",
              " 'prescience',\n",
              " 'Must',\n",
              " 'degrade',\n",
              " 'Extend',\n",
              " '15',\n",
              " 'pretext',\n",
              " 'foresight',\n",
              " 'noticing',\n",
              " 'Surprised',\n",
              " 'partook',\n",
              " 'powered',\n",
              " 'Disappointment',\n",
              " 'exercised',\n",
              " 'dispatches',\n",
              " 'exhilaration',\n",
              " 'Almost',\n",
              " 'confusedly',\n",
              " 'torment',\n",
              " 'indubitable',\n",
              " 'feeding',\n",
              " 'Gone',\n",
              " 'quarrelled',\n",
              " 'suspects',\n",
              " 'disapproves',\n",
              " 'transact',\n",
              " 'dismiss',\n",
              " 'dares',\n",
              " 'feels',\n",
              " 'cavil',\n",
              " 'blameable',\n",
              " 'inadvertence',\n",
              " 'depressed',\n",
              " 'certainties',\n",
              " 'unavoidably',\n",
              " 'Secrecy',\n",
              " 'practiced',\n",
              " 'ARE',\n",
              " 'Concealing',\n",
              " 'accuse',\n",
              " 'incautiousness',\n",
              " 'outweighs',\n",
              " 'fainter',\n",
              " 'mighty',\n",
              " 'concession',\n",
              " 'Ungracious',\n",
              " 'stranger',\n",
              " 'independently',\n",
              " 'prosperously',\n",
              " 'representations',\n",
              " 'swollen',\n",
              " '16',\n",
              " 'risen',\n",
              " 'headache',\n",
              " 'potent',\n",
              " 'oftenest',\n",
              " 'singing',\n",
              " 'fetches',\n",
              " 'mystery',\n",
              " 'Supposing',\n",
              " 'inflict',\n",
              " 'unacknowledged',\n",
              " 'dearly',\n",
              " 'revealment',\n",
              " 'overstrained',\n",
              " 'witticisms',\n",
              " 'volume',\n",
              " 'Shakespeare',\n",
              " 'Hamlet',\n",
              " 'Months',\n",
              " 'Hitherto',\n",
              " 'stole',\n",
              " 'climbing',\n",
              " 'disapproved',\n",
              " 'seclusion',\n",
              " 'MIND',\n",
              " 'controlled',\n",
              " 'stretch',\n",
              " 'reaching',\n",
              " 'riding',\n",
              " 'particularity',\n",
              " 'quickened',\n",
              " 'dispersed',\n",
              " 'continuation',\n",
              " 'elect',\n",
              " 'thickly',\n",
              " 'transporting',\n",
              " 'showers',\n",
              " 'inspired',\n",
              " 'nuisance',\n",
              " 'swept',\n",
              " 'SOMETIMES',\n",
              " 'equals',\n",
              " 'rises',\n",
              " 'bottoms',\n",
              " 'friendliest',\n",
              " 'directing',\n",
              " 'extorting',\n",
              " 'regulate',\n",
              " '17',\n",
              " 'extending',\n",
              " 'reanimate',\n",
              " 'parents',\n",
              " 'fame',\n",
              " 'famous',\n",
              " 'Greatness',\n",
              " 'Strange',\n",
              " 'Grandeur',\n",
              " 'external',\n",
              " 'TWO',\n",
              " 'describing',\n",
              " 'accurately',\n",
              " 'Hunters',\n",
              " 'hunt',\n",
              " 'novel',\n",
              " 'apiece',\n",
              " 'insufficiency',\n",
              " 'vanish',\n",
              " 'booksellers',\n",
              " 'sellers',\n",
              " 'Thomson',\n",
              " 'disputes',\n",
              " 'loose',\n",
              " 'cash',\n",
              " 'collection',\n",
              " 'bulk',\n",
              " 'heirs',\n",
              " 'ablest',\n",
              " 'maxim',\n",
              " 'presume',\n",
              " 'steadfast',\n",
              " 'detected',\n",
              " 'mistakes',\n",
              " 'ingenious',\n",
              " 'oneself',\n",
              " 'deliberate',\n",
              " 'subservient',\n",
              " 'confound',\n",
              " 'conform',\n",
              " 'Quite',\n",
              " 'foolishly',\n",
              " 'negligent',\n",
              " 'awkwardness',\n",
              " 'Shyness',\n",
              " 'fullest',\n",
              " '18',\n",
              " 'inspiring',\n",
              " 'reservedness',\n",
              " 'intimated',\n",
              " 'upstairs',\n",
              " '***',\n",
              " 'minutely',\n",
              " 'surfaces',\n",
              " 'uncouth',\n",
              " 'irregular',\n",
              " 'rugged',\n",
              " 'indistinct',\n",
              " 'medium',\n",
              " 'hazy',\n",
              " 'meadows',\n",
              " 'scattered',\n",
              " 'answers',\n",
              " 'unites',\n",
              " 'utility',\n",
              " 'rocks',\n",
              " 'promontories',\n",
              " 'grey',\n",
              " 'moss',\n",
              " 'brush',\n",
              " 'believes',\n",
              " 'affects',\n",
              " 'discrimination',\n",
              " 'possesses',\n",
              " 'scenery',\n",
              " 'pretends',\n",
              " 'tries',\n",
              " 'defined',\n",
              " 'blasted',\n",
              " 'flourishing',\n",
              " 'tattered',\n",
              " 'nettles',\n",
              " 'thistles',\n",
              " 'heath',\n",
              " 'blossoms',\n",
              " 'tower',\n",
              " 'troop',\n",
              " 'tidy',\n",
              " 'villages',\n",
              " 'banditti',\n",
              " 'plait',\n",
              " 'conspicuous',\n",
              " 'darker',\n",
              " 'inconsiderately',\n",
              " 'surpassed',\n",
              " 'casts',\n",
              " 'instantaneously',\n",
              " 'conclusions',\n",
              " 'theft',\n",
              " 'contrivance',\n",
              " 'henceforward',\n",
              " 'newness',\n",
              " 'significant',\n",
              " 'instructions',\n",
              " 'entertainment',\n",
              " 'contribute',\n",
              " 'Impossible',\n",
              " 'Whitakers',\n",
              " 'blushing',\n",
              " 'guessing',\n",
              " 'hunts',\n",
              " 'archness',\n",
              " '19',\n",
              " 'unequal',\n",
              " 'environs',\n",
              " 'disengaged',\n",
              " 'detested',\n",
              " 'Disappointed',\n",
              " 'qualifications',\n",
              " 'painfully',\n",
              " 'extorted',\n",
              " 'consistency',\n",
              " 'shortness',\n",
              " 'temporizing',\n",
              " 'grievance',\n",
              " 'reformed',\n",
              " 'renewal',\n",
              " 'finger',\n",
              " 'helpless',\n",
              " 'army',\n",
              " 'chambers',\n",
              " 'Temple',\n",
              " 'circles',\n",
              " 'gigs',\n",
              " 'abstruse',\n",
              " 'navy',\n",
              " 'solicitations',\n",
              " 'trades',\n",
              " 'Columella',\n",
              " 'fascinating',\n",
              " 'ere',\n",
              " 'defy',\n",
              " 'desponding',\n",
              " 'judiciously',\n",
              " 'augment',\n",
              " 'meritorious',\n",
              " 'ones',\n",
              " 'loving',\n",
              " 'shutting',\n",
              " 'abundance',\n",
              " 'forbidden',\n",
              " 'chained',\n",
              " 'closing',\n",
              " 'knocking',\n",
              " 'turf',\n",
              " 'casement',\n",
              " 'Hush',\n",
              " 'hallooing',\n",
              " 'plump',\n",
              " 'prepossessing',\n",
              " 'briefly',\n",
              " 'surveying',\n",
              " 'meantime',\n",
              " 'nodding',\n",
              " 'ushered',\n",
              " 'stared',\n",
              " 'pitched',\n",
              " 'ceiling',\n",
              " 'oftener',\n",
              " '20',\n",
              " 'ours',\n",
              " 'chaperon',\n",
              " 'bowing',\n",
              " 'complaining',\n",
              " 'Dullness',\n",
              " 'billiard',\n",
              " 'vile',\n",
              " 'Gilberts',\n",
              " 'whip',\n",
              " 'abused',\n",
              " 'genuinely',\n",
              " 'unaffectedly',\n",
              " 'soured',\n",
              " 'bias',\n",
              " 'blunder',\n",
              " 'establishing',\n",
              " 'sneer',\n",
              " 'canvassing',\n",
              " 'election',\n",
              " 'fatiguing',\n",
              " 'Parliament',\n",
              " 'P',\n",
              " 'irrational',\n",
              " 'palm',\n",
              " 'abuses',\n",
              " 'languages',\n",
              " 'decline',\n",
              " 'changing',\n",
              " 'gathered',\n",
              " ';--\"',\n",
              " 'Somehow',\n",
              " 'Weymouth',\n",
              " 'praises',\n",
              " 'objected',\n",
              " '21',\n",
              " 'entertain',\n",
              " 'unsuitableness',\n",
              " 'invite',\n",
              " 'philosophy',\n",
              " 'ungenteel',\n",
              " 'unfashionable',\n",
              " 'doatingly',\n",
              " 'Benevolent',\n",
              " 'philanthropic',\n",
              " 'playthings',\n",
              " 'boasting',\n",
              " 'smartness',\n",
              " 'actual',\n",
              " 'judicious',\n",
              " 'extolling',\n",
              " 'humouring',\n",
              " 'whims',\n",
              " 'importunate',\n",
              " 'patterns',\n",
              " 'foibles',\n",
              " 'rapacious',\n",
              " 'beings',\n",
              " 'credulous',\n",
              " 'exorbitant',\n",
              " 'swallow',\n",
              " 'endurance',\n",
              " 'viewed',\n",
              " 'encroachments',\n",
              " 'mischievous',\n",
              " 'sashes',\n",
              " 'untied',\n",
              " 'bags',\n",
              " 'knives',\n",
              " 'composedly',\n",
              " 'claiming',\n",
              " 'monkey',\n",
              " 'pinching',\n",
              " 'playful',\n",
              " 'caressing',\n",
              " 'embraces',\n",
              " 'scratching',\n",
              " 'pattern',\n",
              " 'outdone',\n",
              " 'consternation',\n",
              " 'surpass',\n",
              " 'emergency',\n",
              " 'assuage',\n",
              " 'sufferer',\n",
              " 'kisses',\n",
              " 'bathed',\n",
              " 'stuffed',\n",
              " 'sugar',\n",
              " 'plums',\n",
              " 'sobbed',\n",
              " 'lustily',\n",
              " 'kicked',\n",
              " 'brothers',\n",
              " 'soothings',\n",
              " 'ineffectual',\n",
              " 'apricot',\n",
              " 'marmalade',\n",
              " 'successfully',\n",
              " 'bruised',\n",
              " 'remedy',\n",
              " 'scratch',\n",
              " 'medicine',\n",
              " 'trivial',\n",
              " 'lies',\n",
              " 'eclat',\n",
              " 'doat',\n",
              " 'distractedly',\n",
              " 'outside',\n",
              " 'estimate',\n",
              " 'lief',\n",
              " 'nasty',\n",
              " 'Rose',\n",
              " 'clerk',\n",
              " 'Simpson',\n",
              " 'blinded',\n",
              " 'shrewd',\n",
              " 'artlessness',\n",
              " 'niggardly',\n",
              " 'dealt',\n",
              " 'consists',\n",
              " 'Twill',\n",
              " 'proclaiming',\n",
              " 'newer',\n",
              " 'significancy',\n",
              " 'nods',\n",
              " 'winks',\n",
              " 'countless',\n",
              " 'wittiest',\n",
              " 'alphabet',\n",
              " 'inquisitiveness',\n",
              " 'assertions',\n",
              " 'petty',\n",
              " 'unavailing',\n",
              " '22',\n",
              " 'toleration',\n",
              " 'vulgarity',\n",
              " 'striving',\n",
              " 'amusing',\n",
              " 'mental',\n",
              " 'rectitude',\n",
              " 'equality',\n",
              " 'toward',\n",
              " 'valueless',\n",
              " 'curious',\n",
              " 'manage',\n",
              " 'amiably',\n",
              " 'bashful',\n",
              " 'Astonishment',\n",
              " 'disbelief',\n",
              " 'divine',\n",
              " 'varied',\n",
              " 'incredulity',\n",
              " 'swoon',\n",
              " 'cautiously',\n",
              " 'date',\n",
              " 'pupil',\n",
              " 'OCCASION',\n",
              " 'puts',\n",
              " 'detecting',\n",
              " 'likeness',\n",
              " 'paces',\n",
              " 'keeping',\n",
              " 'Besides',\n",
              " 'wiping',\n",
              " 'break',\n",
              " 'Pardon',\n",
              " 'provide',\n",
              " 'sometime',\n",
              " 'carelessly',\n",
              " 'sheet',\n",
              " 'subsist',\n",
              " 'struggled',\n",
              " 'Writing',\n",
              " 'separations',\n",
              " 'confounded',\n",
              " 'editions',\n",
              " '23',\n",
              " 'inventing',\n",
              " 'asserted',\n",
              " 'indisputable',\n",
              " 'dissatisfaction',\n",
              " 'evidence',\n",
              " 'condemning',\n",
              " 'dupe',\n",
              " 'illusion',\n",
              " 'softener',\n",
              " 'defended',\n",
              " 'regain',\n",
              " 'infatuation',\n",
              " 'frivolous',\n",
              " 'supposition',\n",
              " 'alienated',\n",
              " 'Supported',\n",
              " 'extinction',\n",
              " 'mourning',\n",
              " 'obstacles',\n",
              " 'perfections',\n",
              " 'entrusted',\n",
              " 'aggravation',\n",
              " 'unshaken',\n",
              " 'poignant',\n",
              " 'renewing',\n",
              " 'venturing',\n",
              " 'confessedly',\n",
              " 'joking',\n",
              " 'disclosure',\n",
              " 'mistrust',\n",
              " 'joining',\n",
              " 'club',\n",
              " 'foresaw',\n",
              " 'fairer',\n",
              " 'permission',\n",
              " 'compliant',\n",
              " 'frightful',\n",
              " 'novelty',\n",
              " 'candlelight',\n",
              " 'candles',\n",
              " 'reseated',\n",
              " 'spoilt',\n",
              " 'Casino',\n",
              " 'Ladyship',\n",
              " 'touched',\n",
              " 'tuned',\n",
              " 'toned',\n",
              " 'rolling',\n",
              " 'labour',\n",
              " 'singly',\n",
              " 'profited',\n",
              " 'proposals',\n",
              " 'rivals',\n",
              " 'forwarding',\n",
              " 'wrapped',\n",
              " '24',\n",
              " 'undeserving',\n",
              " 'apologize',\n",
              " 'ice',\n",
              " 'Offended',\n",
              " 'quarrelling',\n",
              " 'madness',\n",
              " 'test',\n",
              " 'lowness',\n",
              " 'impose',\n",
              " 'involve',\n",
              " 'owning',\n",
              " ...]"
            ]
          },
          "metadata": {},
          "execution_count": 54
        }
      ]
    },
    {
      "cell_type": "markdown",
      "source": [
        "We can find long words in the text."
      ],
      "metadata": {
        "id": "d-OHCoqHKEYV"
      }
    },
    {
      "cell_type": "code",
      "source": [
        "V = set(text1)\n",
        "long_words = [w for w in V if len(w) > 15]\n",
        "sorted(long_words)"
      ],
      "metadata": {
        "colab": {
          "base_uri": "https://localhost:8080/"
        },
        "id": "2YPhedzGItu9",
        "outputId": "5a3c2366-f4d2-4043-a632-313b8dc9c579"
      },
      "execution_count": 55,
      "outputs": [
        {
          "output_type": "execute_result",
          "data": {
            "text/plain": [
              "['CIRCUMNAVIGATION',\n",
              " 'Physiognomically',\n",
              " 'apprehensiveness',\n",
              " 'cannibalistically',\n",
              " 'characteristically',\n",
              " 'circumnavigating',\n",
              " 'circumnavigation',\n",
              " 'circumnavigations',\n",
              " 'comprehensiveness',\n",
              " 'hermaphroditical',\n",
              " 'indiscriminately',\n",
              " 'indispensableness',\n",
              " 'irresistibleness',\n",
              " 'physiognomically',\n",
              " 'preternaturalness',\n",
              " 'responsibilities',\n",
              " 'simultaneousness',\n",
              " 'subterraneousness',\n",
              " 'supernaturalness',\n",
              " 'superstitiousness',\n",
              " 'uncomfortableness',\n",
              " 'uncompromisedness',\n",
              " 'undiscriminating',\n",
              " 'uninterpenetratingly']"
            ]
          },
          "metadata": {},
          "execution_count": 55
        }
      ]
    },
    {
      "cell_type": "markdown",
      "source": [
        "But only being long doesn't work because most of the long words are unique. So we add another condition: being repeated more than 7 times."
      ],
      "metadata": {
        "id": "KX4DK_RtKKVk"
      }
    },
    {
      "cell_type": "code",
      "source": [
        "fdist5 = FreqDist(text5)\n",
        "sorted(w for w in set(text5) if len(w) > 7 and fdist5[w] > 7)"
      ],
      "metadata": {
        "id": "DuMyTQJoJX3B"
      },
      "execution_count": null,
      "outputs": []
    },
    {
      "cell_type": "markdown",
      "source": [
        "A __collocation__ is a sequence of words that occur together unusually often. Thus *red wine* is a collocation, whereas *the wine* is not. To get a handle on collocations, we start off by extracting from a text a list of word pairs, also known as __bigrams__."
      ],
      "metadata": {
        "id": "LuMuoFECKjYB"
      }
    },
    {
      "cell_type": "code",
      "source": [
        "list(bigrams(['more', 'is', 'said', 'than', 'done']))"
      ],
      "metadata": {
        "colab": {
          "base_uri": "https://localhost:8080/"
        },
        "id": "e07tkPKKKqkx",
        "outputId": "175a426f-d607-4304-ff3b-73c5a81037a4"
      },
      "execution_count": 56,
      "outputs": [
        {
          "output_type": "execute_result",
          "data": {
            "text/plain": [
              "[('more', 'is'), ('is', 'said'), ('said', 'than'), ('than', 'done')]"
            ]
          },
          "metadata": {},
          "execution_count": 56
        }
      ]
    },
    {
      "cell_type": "markdown",
      "source": [
        "In particular, we want to find bigrams that occur more often than we would expect based on the frequency of the individual words."
      ],
      "metadata": {
        "id": "PupFiwmLLYZ-"
      }
    },
    {
      "cell_type": "code",
      "source": [
        "text4.collocations()"
      ],
      "metadata": {
        "colab": {
          "base_uri": "https://localhost:8080/"
        },
        "id": "hcaLLNERK638",
        "outputId": "f8d8e264-7716-4268-9c27-69b58d40c06f"
      },
      "execution_count": 57,
      "outputs": [
        {
          "output_type": "stream",
          "name": "stdout",
          "text": [
            "United States; fellow citizens; years ago; four years; Federal\n",
            "Government; General Government; Vice President; American people; God\n",
            "bless; Chief Justice; one another; fellow Americans; Old World;\n",
            "Almighty God; Fellow citizens; Chief Magistrate; every citizen; Indian\n",
            "tribes; public debt; foreign nations\n"
          ]
        }
      ]
    },
    {
      "cell_type": "markdown",
      "source": [
        "Counting words is useful, but we can count other things too. For example, we can look at the distribution of word lengths in a text, by creating a FreqDist out of a long list of numbers, where each number is the length of the corresponding word in the text:"
      ],
      "metadata": {
        "id": "-8UEyTOHMWgY"
      }
    },
    {
      "cell_type": "code",
      "source": [
        "[len(w) for w in text1]\n",
        "fdist = FreqDist(len(w) for w in text1)\n",
        "print(fdist)\n",
        "fdist"
      ],
      "metadata": {
        "colab": {
          "base_uri": "https://localhost:8080/"
        },
        "id": "5g9EoZ2BLUdW",
        "outputId": "20420b64-2551-4326-8638-7668ac1c415f"
      },
      "execution_count": 58,
      "outputs": [
        {
          "output_type": "stream",
          "name": "stdout",
          "text": [
            "<FreqDist with 19 samples and 260819 outcomes>\n"
          ]
        },
        {
          "output_type": "execute_result",
          "data": {
            "text/plain": [
              "FreqDist({3: 50223, 1: 47933, 4: 42345, 2: 38513, 5: 26597, 6: 17111, 7: 14399, 8: 9966, 9: 6428, 10: 3528, ...})"
            ]
          },
          "metadata": {},
          "execution_count": 58
        }
      ]
    },
    {
      "cell_type": "markdown",
      "source": [
        "We can choose words that have certain conditions."
      ],
      "metadata": {
        "id": "SWOHsZXiNyc6"
      }
    },
    {
      "cell_type": "code",
      "source": [
        "[w for w in sent7 if len(w) < 4]"
      ],
      "metadata": {
        "colab": {
          "base_uri": "https://localhost:8080/"
        },
        "id": "ar5hkfxBMhqB",
        "outputId": "6f926ff9-ba34-42ea-9c2b-098563bfe801"
      },
      "execution_count": 59,
      "outputs": [
        {
          "output_type": "execute_result",
          "data": {
            "text/plain": [
              "[',', '61', 'old', ',', 'the', 'as', 'a', '29', '.']"
            ]
          },
          "metadata": {},
          "execution_count": 59
        }
      ]
    },
    {
      "cell_type": "code",
      "source": [
        "sorted(w for w in set(text1) if w.endswith('ableness'))"
      ],
      "metadata": {
        "colab": {
          "base_uri": "https://localhost:8080/"
        },
        "id": "oEzKBV9QN7FO",
        "outputId": "697d1278-48b4-493b-b7b9-3ea14346ad54"
      },
      "execution_count": 60,
      "outputs": [
        {
          "output_type": "execute_result",
          "data": {
            "text/plain": [
              "['comfortableness',\n",
              " 'honourableness',\n",
              " 'immutableness',\n",
              " 'indispensableness',\n",
              " 'indomitableness',\n",
              " 'intolerableness',\n",
              " 'palpableness',\n",
              " 'reasonableness',\n",
              " 'uncomfortableness']"
            ]
          },
          "metadata": {},
          "execution_count": 60
        }
      ]
    },
    {
      "cell_type": "markdown",
      "source": [
        "We did count words in a text before but there may be words with capital letters that are repeated with lower letters. Also we don't want non-alphabatics to be count."
      ],
      "metadata": {
        "id": "jLwa4snNO0ry"
      }
    },
    {
      "cell_type": "code",
      "source": [
        "len(set(word.lower() for word in text1 if word.isalpha()))"
      ],
      "metadata": {
        "colab": {
          "base_uri": "https://localhost:8080/"
        },
        "id": "8TzqnQ4AN-N-",
        "outputId": "ff12ec06-232d-4563-deea-920fc0559d62"
      },
      "execution_count": 61,
      "outputs": [
        {
          "output_type": "execute_result",
          "data": {
            "text/plain": [
              "16948"
            ]
          },
          "metadata": {},
          "execution_count": 61
        }
      ]
    },
    {
      "cell_type": "markdown",
      "source": [
        "Trying some chatbots!"
      ],
      "metadata": {
        "id": "xBSFZBtoWbvX"
      }
    },
    {
      "cell_type": "code",
      "source": [
        "nltk.chat.chatbots()"
      ],
      "metadata": {
        "colab": {
          "base_uri": "https://localhost:8080/"
        },
        "id": "36dW5BIFPJUu",
        "outputId": "8848c2c6-e5ca-4686-94c7-ac55b0f53727"
      },
      "execution_count": 62,
      "outputs": [
        {
          "output_type": "stream",
          "name": "stdout",
          "text": [
            "Which chatbot would you like to talk to?\n",
            "  1: Eliza (psycho-babble)\n",
            "  2: Iesha (teen anime junky)\n",
            "  3: Rude (abusive bot)\n",
            "  4: Suntsu (Chinese sayings)\n",
            "  5: Zen (gems of wisdom)\n",
            "\n",
            "Enter a number in the range 1-5: 5\n",
            "***************************************************************************\n",
            "                                Zen Chatbot!                               \n",
            "***************************************************************************\n",
            "         \"Look beyond mere words and letters - look into your mind\"        \n",
            "* Talk your way to truth with Zen Chatbot.\n",
            "* Type 'quit' when you have had enough.\n",
            "***************************************************************************\n",
            "Welcome, my child.\n",
            ">Hello how are you\n",
            "Hello. Do you seek englightenment?\n",
            ">no\n",
            "Is there certainty in an uncertain world?\n",
            ">no I don't think so\n",
            "It is better to be right than to be certain.\n",
            ">What's the difference?\n",
            "You seek the truth. Does the truth seek you?\n",
            ">I don't know I haven't asked it!\n",
            "Think not just of yourself, but of others.\n",
            ">I try to\n",
            "Think not just of yourself, but of others.\n",
            ">quit\n",
            "Form is emptiness, and emptiness is form.\n"
          ]
        }
      ]
    },
    {
      "cell_type": "code",
      "source": [
        "nltk.chat.chatbots()"
      ],
      "metadata": {
        "colab": {
          "base_uri": "https://localhost:8080/"
        },
        "id": "R0YxUIb1Vkv2",
        "outputId": "ad0ed32d-d42a-4802-d775-00d95f2b7503"
      },
      "execution_count": 63,
      "outputs": [
        {
          "output_type": "stream",
          "name": "stdout",
          "text": [
            "Which chatbot would you like to talk to?\n",
            "  1: Eliza (psycho-babble)\n",
            "  2: Iesha (teen anime junky)\n",
            "  3: Rude (abusive bot)\n",
            "  4: Suntsu (Chinese sayings)\n",
            "  5: Zen (gems of wisdom)\n",
            "\n",
            "Enter a number in the range 1-5: 3\n",
            "Talk to the program by typing in plain English, using normal upper-\n",
            "and lower-case letters and punctuation.  Enter \"quit\" when done.\n",
            "========================================================================\n",
            "I suppose I should say hello.\n",
            ">Hey\n",
            "Change the subject before I die of fatal boredom.\n",
            ">You're mean\n",
            "More like YOU'RE  mean!\n",
            ">What the fuck \n",
            "Do I look like an encyclopedia?\n",
            ">you aren't trained very well\n",
            "More like YOU'RE n't trained very well!\n",
            ">wow\n",
            "Either become more thrilling or get lost, buddy.\n",
            ">are you trying to be mean or you are always mean\n",
            "Change the subject before I die of fatal boredom.\n",
            ">pfffff\n",
            "Either become more thrilling or get lost, buddy.\n",
            ">quit\n",
            "Change the subject before I die of fatal boredom.\n"
          ]
        }
      ]
    },
    {
      "cell_type": "markdown",
      "source": [
        "## spaCy\n",
        "\n",
        "spaCy is a free, open-source library for advanced Natural Language Processing (NLP) in Python."
      ],
      "metadata": {
        "id": "a4-Zonm9a1dh"
      }
    },
    {
      "cell_type": "code",
      "source": [
        "!python -m spacy download en_core_web_sm"
      ],
      "metadata": {
        "colab": {
          "base_uri": "https://localhost:8080/"
        },
        "id": "3bBpRpXsWEFW",
        "outputId": "5644626f-715c-4b53-e2d7-a89e91bb05f4"
      },
      "execution_count": 64,
      "outputs": [
        {
          "output_type": "stream",
          "name": "stdout",
          "text": [
            "Collecting en-core-web-sm==3.8.0\n",
            "  Downloading https://github.com/explosion/spacy-models/releases/download/en_core_web_sm-3.8.0/en_core_web_sm-3.8.0-py3-none-any.whl (12.8 MB)\n",
            "\u001b[2K     \u001b[90m━━━━━━━━━━━━━━━━━━━━━━━━━━━━━━━━━━━━━━━━\u001b[0m \u001b[32m12.8/12.8 MB\u001b[0m \u001b[31m44.3 MB/s\u001b[0m eta \u001b[36m0:00:00\u001b[0m\n",
            "\u001b[?25h\u001b[38;5;2m✔ Download and installation successful\u001b[0m\n",
            "You can now load the package via spacy.load('en_core_web_sm')\n",
            "\u001b[38;5;3m⚠ Restart to reload dependencies\u001b[0m\n",
            "If you are in a Jupyter or Colab notebook, you may need to restart Python in\n",
            "order to load all the package's dependencies. You can do this by selecting the\n",
            "'Restart kernel' or 'Restart runtime' option.\n"
          ]
        }
      ]
    },
    {
      "cell_type": "code",
      "source": [
        "import spacy\n",
        "\n",
        "nlp = spacy.load(\"en_core_web_sm\")\n",
        "doc = nlp(\"Apple is looking at buying U.K. startup for $1 billion\")\n",
        "for token in doc:\n",
        "    print(token.text)"
      ],
      "metadata": {
        "colab": {
          "base_uri": "https://localhost:8080/"
        },
        "id": "94tt_TINbsie",
        "outputId": "3a318228-5dea-4eec-d4fc-0cd448f45676"
      },
      "execution_count": 4,
      "outputs": [
        {
          "output_type": "stream",
          "name": "stdout",
          "text": [
            "Apple\n",
            "is\n",
            "looking\n",
            "at\n",
            "buying\n",
            "U.K.\n",
            "startup\n",
            "for\n",
            "$\n",
            "1\n",
            "billion\n"
          ]
        }
      ]
    },
    {
      "cell_type": "markdown",
      "source": [
        "Like many NLP libraries, spaCy encodes all strings to hash values to reduce memory usage and improve efficiency. So to get the readable string representation of an attribute, we need to add an underscore _ to its name:"
      ],
      "metadata": {
        "id": "Ahla2EiGhN_c"
      }
    },
    {
      "cell_type": "code",
      "source": [
        "for token in doc:\n",
        "    print(token.text, token.lemma_, token.pos_, token.tag_, token.dep_,\n",
        "            token.shape_, token.is_alpha, token.is_stop)"
      ],
      "metadata": {
        "colab": {
          "base_uri": "https://localhost:8080/"
        },
        "id": "9VDdr6_jb5Pa",
        "outputId": "ee3cf5ef-a7bb-4907-bbde-101b9b51ca55"
      },
      "execution_count": 5,
      "outputs": [
        {
          "output_type": "stream",
          "name": "stdout",
          "text": [
            "Apple Apple PROPN NNP nsubj Xxxxx True False\n",
            "is be AUX VBZ aux xx True True\n",
            "looking look VERB VBG ROOT xxxx True False\n",
            "at at ADP IN prep xx True True\n",
            "buying buy VERB VBG pcomp xxxx True False\n",
            "U.K. U.K. PROPN NNP nsubj X.X. False False\n",
            "startup startup VERB VBD ccomp xxxx True False\n",
            "for for ADP IN prep xxx True True\n",
            "$ $ SYM $ quantmod $ False False\n",
            "1 1 NUM CD compound d False False\n",
            "billion billion NUM CD pobj xxxx True False\n"
          ]
        }
      ]
    },
    {
      "cell_type": "markdown",
      "source": [
        "Using spaCy’s built-in displaCy visualizer, here’s what our example sentence and its dependencies look like:"
      ],
      "metadata": {
        "id": "z6t3RZxqhS7l"
      }
    },
    {
      "cell_type": "code",
      "source": [
        "from spacy import displacy"
      ],
      "metadata": {
        "id": "lSwKPmP5g0o8"
      },
      "execution_count": 7,
      "outputs": []
    },
    {
      "cell_type": "code",
      "source": [
        "displacy.serve(doc, style=\"dep\")"
      ],
      "metadata": {
        "colab": {
          "base_uri": "https://localhost:8080/",
          "height": 677
        },
        "id": "pqQDpRlKgiS6",
        "outputId": "fe7f97b7-edbe-4084-c7fb-34107eac5028"
      },
      "execution_count": 8,
      "outputs": [
        {
          "output_type": "stream",
          "name": "stderr",
          "text": [
            "/usr/local/lib/python3.11/dist-packages/spacy/displacy/__init__.py:106: UserWarning: [W011] It looks like you're calling displacy.serve from within a Jupyter notebook or a similar environment. This likely means you're already running a local web server, so there's no need to make displaCy start another one. Instead, you should be able to replace displacy.serve with displacy.render to show the visualization.\n",
            "  warnings.warn(Warnings.W011)\n"
          ]
        },
        {
          "output_type": "display_data",
          "data": {
            "text/plain": [
              "<IPython.core.display.HTML object>"
            ],
            "text/html": [
              "<span class=\"tex2jax_ignore\"><!DOCTYPE html>\n",
              "<html lang=\"en\">\n",
              "    <head>\n",
              "        <title>displaCy</title>\n",
              "    </head>\n",
              "\n",
              "    <body style=\"font-size: 16px; font-family: -apple-system, BlinkMacSystemFont, 'Segoe UI', Helvetica, Arial, sans-serif, 'Apple Color Emoji', 'Segoe UI Emoji', 'Segoe UI Symbol'; padding: 4rem 2rem; direction: ltr\">\n",
              "<figure style=\"margin-bottom: 6rem\">\n",
              "<svg xmlns=\"http://www.w3.org/2000/svg\" xmlns:xlink=\"http://www.w3.org/1999/xlink\" xml:lang=\"en\" id=\"0e3c759b26d6448ea0ac99ec1c3b58e9-0\" class=\"displacy\" width=\"1975\" height=\"399.5\" direction=\"ltr\" style=\"max-width: none; height: 399.5px; color: #000000; background: #ffffff; font-family: Arial; direction: ltr\">\n",
              "<text class=\"displacy-token\" fill=\"currentColor\" text-anchor=\"middle\" y=\"309.5\">\n",
              "    <tspan class=\"displacy-word\" fill=\"currentColor\" x=\"50\">Apple</tspan>\n",
              "    <tspan class=\"displacy-tag\" dy=\"2em\" fill=\"currentColor\" x=\"50\">PROPN</tspan>\n",
              "</text>\n",
              "\n",
              "<text class=\"displacy-token\" fill=\"currentColor\" text-anchor=\"middle\" y=\"309.5\">\n",
              "    <tspan class=\"displacy-word\" fill=\"currentColor\" x=\"225\">is</tspan>\n",
              "    <tspan class=\"displacy-tag\" dy=\"2em\" fill=\"currentColor\" x=\"225\">AUX</tspan>\n",
              "</text>\n",
              "\n",
              "<text class=\"displacy-token\" fill=\"currentColor\" text-anchor=\"middle\" y=\"309.5\">\n",
              "    <tspan class=\"displacy-word\" fill=\"currentColor\" x=\"400\">looking</tspan>\n",
              "    <tspan class=\"displacy-tag\" dy=\"2em\" fill=\"currentColor\" x=\"400\">VERB</tspan>\n",
              "</text>\n",
              "\n",
              "<text class=\"displacy-token\" fill=\"currentColor\" text-anchor=\"middle\" y=\"309.5\">\n",
              "    <tspan class=\"displacy-word\" fill=\"currentColor\" x=\"575\">at</tspan>\n",
              "    <tspan class=\"displacy-tag\" dy=\"2em\" fill=\"currentColor\" x=\"575\">ADP</tspan>\n",
              "</text>\n",
              "\n",
              "<text class=\"displacy-token\" fill=\"currentColor\" text-anchor=\"middle\" y=\"309.5\">\n",
              "    <tspan class=\"displacy-word\" fill=\"currentColor\" x=\"750\">buying</tspan>\n",
              "    <tspan class=\"displacy-tag\" dy=\"2em\" fill=\"currentColor\" x=\"750\">VERB</tspan>\n",
              "</text>\n",
              "\n",
              "<text class=\"displacy-token\" fill=\"currentColor\" text-anchor=\"middle\" y=\"309.5\">\n",
              "    <tspan class=\"displacy-word\" fill=\"currentColor\" x=\"925\">U.K.</tspan>\n",
              "    <tspan class=\"displacy-tag\" dy=\"2em\" fill=\"currentColor\" x=\"925\">PROPN</tspan>\n",
              "</text>\n",
              "\n",
              "<text class=\"displacy-token\" fill=\"currentColor\" text-anchor=\"middle\" y=\"309.5\">\n",
              "    <tspan class=\"displacy-word\" fill=\"currentColor\" x=\"1100\">startup</tspan>\n",
              "    <tspan class=\"displacy-tag\" dy=\"2em\" fill=\"currentColor\" x=\"1100\">VERB</tspan>\n",
              "</text>\n",
              "\n",
              "<text class=\"displacy-token\" fill=\"currentColor\" text-anchor=\"middle\" y=\"309.5\">\n",
              "    <tspan class=\"displacy-word\" fill=\"currentColor\" x=\"1275\">for</tspan>\n",
              "    <tspan class=\"displacy-tag\" dy=\"2em\" fill=\"currentColor\" x=\"1275\">ADP</tspan>\n",
              "</text>\n",
              "\n",
              "<text class=\"displacy-token\" fill=\"currentColor\" text-anchor=\"middle\" y=\"309.5\">\n",
              "    <tspan class=\"displacy-word\" fill=\"currentColor\" x=\"1450\">$</tspan>\n",
              "    <tspan class=\"displacy-tag\" dy=\"2em\" fill=\"currentColor\" x=\"1450\">SYM</tspan>\n",
              "</text>\n",
              "\n",
              "<text class=\"displacy-token\" fill=\"currentColor\" text-anchor=\"middle\" y=\"309.5\">\n",
              "    <tspan class=\"displacy-word\" fill=\"currentColor\" x=\"1625\">1</tspan>\n",
              "    <tspan class=\"displacy-tag\" dy=\"2em\" fill=\"currentColor\" x=\"1625\">NUM</tspan>\n",
              "</text>\n",
              "\n",
              "<text class=\"displacy-token\" fill=\"currentColor\" text-anchor=\"middle\" y=\"309.5\">\n",
              "    <tspan class=\"displacy-word\" fill=\"currentColor\" x=\"1800\">billion</tspan>\n",
              "    <tspan class=\"displacy-tag\" dy=\"2em\" fill=\"currentColor\" x=\"1800\">NUM</tspan>\n",
              "</text>\n",
              "\n",
              "<g class=\"displacy-arrow\">\n",
              "    <path class=\"displacy-arc\" id=\"arrow-0e3c759b26d6448ea0ac99ec1c3b58e9-0-0\" stroke-width=\"2px\" d=\"M70,264.5 C70,89.5 395.0,89.5 395.0,264.5\" fill=\"none\" stroke=\"currentColor\"/>\n",
              "    <text dy=\"1.25em\" style=\"font-size: 0.8em; letter-spacing: 1px\">\n",
              "        <textPath xlink:href=\"#arrow-0e3c759b26d6448ea0ac99ec1c3b58e9-0-0\" class=\"displacy-label\" startOffset=\"50%\" side=\"left\" fill=\"currentColor\" text-anchor=\"middle\">nsubj</textPath>\n",
              "    </text>\n",
              "    <path class=\"displacy-arrowhead\" d=\"M70,266.5 L62,254.5 78,254.5\" fill=\"currentColor\"/>\n",
              "</g>\n",
              "\n",
              "<g class=\"displacy-arrow\">\n",
              "    <path class=\"displacy-arc\" id=\"arrow-0e3c759b26d6448ea0ac99ec1c3b58e9-0-1\" stroke-width=\"2px\" d=\"M245,264.5 C245,177.0 390.0,177.0 390.0,264.5\" fill=\"none\" stroke=\"currentColor\"/>\n",
              "    <text dy=\"1.25em\" style=\"font-size: 0.8em; letter-spacing: 1px\">\n",
              "        <textPath xlink:href=\"#arrow-0e3c759b26d6448ea0ac99ec1c3b58e9-0-1\" class=\"displacy-label\" startOffset=\"50%\" side=\"left\" fill=\"currentColor\" text-anchor=\"middle\">aux</textPath>\n",
              "    </text>\n",
              "    <path class=\"displacy-arrowhead\" d=\"M245,266.5 L237,254.5 253,254.5\" fill=\"currentColor\"/>\n",
              "</g>\n",
              "\n",
              "<g class=\"displacy-arrow\">\n",
              "    <path class=\"displacy-arc\" id=\"arrow-0e3c759b26d6448ea0ac99ec1c3b58e9-0-2\" stroke-width=\"2px\" d=\"M420,264.5 C420,177.0 565.0,177.0 565.0,264.5\" fill=\"none\" stroke=\"currentColor\"/>\n",
              "    <text dy=\"1.25em\" style=\"font-size: 0.8em; letter-spacing: 1px\">\n",
              "        <textPath xlink:href=\"#arrow-0e3c759b26d6448ea0ac99ec1c3b58e9-0-2\" class=\"displacy-label\" startOffset=\"50%\" side=\"left\" fill=\"currentColor\" text-anchor=\"middle\">prep</textPath>\n",
              "    </text>\n",
              "    <path class=\"displacy-arrowhead\" d=\"M565.0,266.5 L573.0,254.5 557.0,254.5\" fill=\"currentColor\"/>\n",
              "</g>\n",
              "\n",
              "<g class=\"displacy-arrow\">\n",
              "    <path class=\"displacy-arc\" id=\"arrow-0e3c759b26d6448ea0ac99ec1c3b58e9-0-3\" stroke-width=\"2px\" d=\"M595,264.5 C595,177.0 740.0,177.0 740.0,264.5\" fill=\"none\" stroke=\"currentColor\"/>\n",
              "    <text dy=\"1.25em\" style=\"font-size: 0.8em; letter-spacing: 1px\">\n",
              "        <textPath xlink:href=\"#arrow-0e3c759b26d6448ea0ac99ec1c3b58e9-0-3\" class=\"displacy-label\" startOffset=\"50%\" side=\"left\" fill=\"currentColor\" text-anchor=\"middle\">pcomp</textPath>\n",
              "    </text>\n",
              "    <path class=\"displacy-arrowhead\" d=\"M740.0,266.5 L748.0,254.5 732.0,254.5\" fill=\"currentColor\"/>\n",
              "</g>\n",
              "\n",
              "<g class=\"displacy-arrow\">\n",
              "    <path class=\"displacy-arc\" id=\"arrow-0e3c759b26d6448ea0ac99ec1c3b58e9-0-4\" stroke-width=\"2px\" d=\"M945,264.5 C945,177.0 1090.0,177.0 1090.0,264.5\" fill=\"none\" stroke=\"currentColor\"/>\n",
              "    <text dy=\"1.25em\" style=\"font-size: 0.8em; letter-spacing: 1px\">\n",
              "        <textPath xlink:href=\"#arrow-0e3c759b26d6448ea0ac99ec1c3b58e9-0-4\" class=\"displacy-label\" startOffset=\"50%\" side=\"left\" fill=\"currentColor\" text-anchor=\"middle\">nsubj</textPath>\n",
              "    </text>\n",
              "    <path class=\"displacy-arrowhead\" d=\"M945,266.5 L937,254.5 953,254.5\" fill=\"currentColor\"/>\n",
              "</g>\n",
              "\n",
              "<g class=\"displacy-arrow\">\n",
              "    <path class=\"displacy-arc\" id=\"arrow-0e3c759b26d6448ea0ac99ec1c3b58e9-0-5\" stroke-width=\"2px\" d=\"M770,264.5 C770,89.5 1095.0,89.5 1095.0,264.5\" fill=\"none\" stroke=\"currentColor\"/>\n",
              "    <text dy=\"1.25em\" style=\"font-size: 0.8em; letter-spacing: 1px\">\n",
              "        <textPath xlink:href=\"#arrow-0e3c759b26d6448ea0ac99ec1c3b58e9-0-5\" class=\"displacy-label\" startOffset=\"50%\" side=\"left\" fill=\"currentColor\" text-anchor=\"middle\">ccomp</textPath>\n",
              "    </text>\n",
              "    <path class=\"displacy-arrowhead\" d=\"M1095.0,266.5 L1103.0,254.5 1087.0,254.5\" fill=\"currentColor\"/>\n",
              "</g>\n",
              "\n",
              "<g class=\"displacy-arrow\">\n",
              "    <path class=\"displacy-arc\" id=\"arrow-0e3c759b26d6448ea0ac99ec1c3b58e9-0-6\" stroke-width=\"2px\" d=\"M1120,264.5 C1120,177.0 1265.0,177.0 1265.0,264.5\" fill=\"none\" stroke=\"currentColor\"/>\n",
              "    <text dy=\"1.25em\" style=\"font-size: 0.8em; letter-spacing: 1px\">\n",
              "        <textPath xlink:href=\"#arrow-0e3c759b26d6448ea0ac99ec1c3b58e9-0-6\" class=\"displacy-label\" startOffset=\"50%\" side=\"left\" fill=\"currentColor\" text-anchor=\"middle\">prep</textPath>\n",
              "    </text>\n",
              "    <path class=\"displacy-arrowhead\" d=\"M1265.0,266.5 L1273.0,254.5 1257.0,254.5\" fill=\"currentColor\"/>\n",
              "</g>\n",
              "\n",
              "<g class=\"displacy-arrow\">\n",
              "    <path class=\"displacy-arc\" id=\"arrow-0e3c759b26d6448ea0ac99ec1c3b58e9-0-7\" stroke-width=\"2px\" d=\"M1470,264.5 C1470,89.5 1795.0,89.5 1795.0,264.5\" fill=\"none\" stroke=\"currentColor\"/>\n",
              "    <text dy=\"1.25em\" style=\"font-size: 0.8em; letter-spacing: 1px\">\n",
              "        <textPath xlink:href=\"#arrow-0e3c759b26d6448ea0ac99ec1c3b58e9-0-7\" class=\"displacy-label\" startOffset=\"50%\" side=\"left\" fill=\"currentColor\" text-anchor=\"middle\">quantmod</textPath>\n",
              "    </text>\n",
              "    <path class=\"displacy-arrowhead\" d=\"M1470,266.5 L1462,254.5 1478,254.5\" fill=\"currentColor\"/>\n",
              "</g>\n",
              "\n",
              "<g class=\"displacy-arrow\">\n",
              "    <path class=\"displacy-arc\" id=\"arrow-0e3c759b26d6448ea0ac99ec1c3b58e9-0-8\" stroke-width=\"2px\" d=\"M1645,264.5 C1645,177.0 1790.0,177.0 1790.0,264.5\" fill=\"none\" stroke=\"currentColor\"/>\n",
              "    <text dy=\"1.25em\" style=\"font-size: 0.8em; letter-spacing: 1px\">\n",
              "        <textPath xlink:href=\"#arrow-0e3c759b26d6448ea0ac99ec1c3b58e9-0-8\" class=\"displacy-label\" startOffset=\"50%\" side=\"left\" fill=\"currentColor\" text-anchor=\"middle\">compound</textPath>\n",
              "    </text>\n",
              "    <path class=\"displacy-arrowhead\" d=\"M1645,266.5 L1637,254.5 1653,254.5\" fill=\"currentColor\"/>\n",
              "</g>\n",
              "\n",
              "<g class=\"displacy-arrow\">\n",
              "    <path class=\"displacy-arc\" id=\"arrow-0e3c759b26d6448ea0ac99ec1c3b58e9-0-9\" stroke-width=\"2px\" d=\"M1295,264.5 C1295,2.0 1800.0,2.0 1800.0,264.5\" fill=\"none\" stroke=\"currentColor\"/>\n",
              "    <text dy=\"1.25em\" style=\"font-size: 0.8em; letter-spacing: 1px\">\n",
              "        <textPath xlink:href=\"#arrow-0e3c759b26d6448ea0ac99ec1c3b58e9-0-9\" class=\"displacy-label\" startOffset=\"50%\" side=\"left\" fill=\"currentColor\" text-anchor=\"middle\">pobj</textPath>\n",
              "    </text>\n",
              "    <path class=\"displacy-arrowhead\" d=\"M1800.0,266.5 L1808.0,254.5 1792.0,254.5\" fill=\"currentColor\"/>\n",
              "</g>\n",
              "</svg>\n",
              "</figure>\n",
              "</body>\n",
              "</html></span>"
            ]
          },
          "metadata": {}
        },
        {
          "output_type": "stream",
          "name": "stdout",
          "text": [
            "\n",
            "Using the 'dep' visualizer\n",
            "Serving on http://0.0.0.0:5000 ...\n",
            "\n",
            "Shutting down server on port 5000.\n"
          ]
        }
      ]
    },
    {
      "cell_type": "markdown",
      "source": [
        "A named entity is a “real-world object” that’s assigned a name – for example, a person, a country, a product or a book title. spaCy can __recognize various types of named entities in a document, by asking the model for a prediction__. Because models are statistical and strongly depend on the examples they were trained on, this doesn’t always work *perfectly* and might need some tuning later, depending on your use case."
      ],
      "metadata": {
        "id": "y6dE7EMxhwy3"
      }
    },
    {
      "cell_type": "code",
      "source": [
        "for ent in doc.ents:\n",
        "    print(ent.text, ent.start_char, ent.end_char, ent.label_)"
      ],
      "metadata": {
        "colab": {
          "base_uri": "https://localhost:8080/"
        },
        "id": "DG6NwA28gxri",
        "outputId": "b7623471-f65d-4f5d-fdb3-5cb592580800"
      },
      "execution_count": 9,
      "outputs": [
        {
          "output_type": "stream",
          "name": "stdout",
          "text": [
            "Apple 0 5 ORG\n",
            "U.K. 27 31 GPE\n",
            "$1 billion 44 54 MONEY\n"
          ]
        }
      ]
    },
    {
      "cell_type": "code",
      "source": [
        "displacy.serve(doc, style=\"ent\")"
      ],
      "metadata": {
        "colab": {
          "base_uri": "https://localhost:8080/",
          "height": 253
        },
        "id": "KT4NOtLthnsn",
        "outputId": "91350506-cec6-42b1-deb6-c7b7d154ebd4"
      },
      "execution_count": 10,
      "outputs": [
        {
          "output_type": "display_data",
          "data": {
            "text/plain": [
              "<IPython.core.display.HTML object>"
            ],
            "text/html": [
              "<span class=\"tex2jax_ignore\"><!DOCTYPE html>\n",
              "<html lang=\"en\">\n",
              "    <head>\n",
              "        <title>displaCy</title>\n",
              "    </head>\n",
              "\n",
              "    <body style=\"font-size: 16px; font-family: -apple-system, BlinkMacSystemFont, 'Segoe UI', Helvetica, Arial, sans-serif, 'Apple Color Emoji', 'Segoe UI Emoji', 'Segoe UI Symbol'; padding: 4rem 2rem; direction: ltr\">\n",
              "<figure style=\"margin-bottom: 6rem\">\n",
              "<div class=\"entities\" style=\"line-height: 2.5; direction: ltr\">\n",
              "<mark class=\"entity\" style=\"background: #7aecec; padding: 0.45em 0.6em; margin: 0 0.25em; line-height: 1; border-radius: 0.35em;\">\n",
              "    Apple\n",
              "    <span style=\"font-size: 0.8em; font-weight: bold; line-height: 1; border-radius: 0.35em; vertical-align: middle; margin-left: 0.5rem\">ORG</span>\n",
              "</mark>\n",
              " is looking at buying \n",
              "<mark class=\"entity\" style=\"background: #feca74; padding: 0.45em 0.6em; margin: 0 0.25em; line-height: 1; border-radius: 0.35em;\">\n",
              "    U.K.\n",
              "    <span style=\"font-size: 0.8em; font-weight: bold; line-height: 1; border-radius: 0.35em; vertical-align: middle; margin-left: 0.5rem\">GPE</span>\n",
              "</mark>\n",
              " startup for \n",
              "<mark class=\"entity\" style=\"background: #e4e7d2; padding: 0.45em 0.6em; margin: 0 0.25em; line-height: 1; border-radius: 0.35em;\">\n",
              "    $1 billion\n",
              "    <span style=\"font-size: 0.8em; font-weight: bold; line-height: 1; border-radius: 0.35em; vertical-align: middle; margin-left: 0.5rem\">MONEY</span>\n",
              "</mark>\n",
              "</div>\n",
              "</figure>\n",
              "</body>\n",
              "</html></span>"
            ]
          },
          "metadata": {}
        },
        {
          "output_type": "stream",
          "name": "stdout",
          "text": [
            "\n",
            "Using the 'ent' visualizer\n",
            "Serving on http://0.0.0.0:5000 ...\n",
            "\n",
            "Shutting down server on port 5000.\n"
          ]
        }
      ]
    },
    {
      "cell_type": "markdown",
      "source": [
        "If you process lots of documents containing the word “coffee” in all kinds of different contexts, storing the exact string “coffee” every time would take up way too much space. So instead, spaCy hashes the string and stores it in the StringStore. You can think of the StringStore as a lookup table that works in both directions – you can look up a string to get its hash, or a hash to get its string:"
      ],
      "metadata": {
        "id": "PlNpPbuXoLfk"
      }
    },
    {
      "cell_type": "code",
      "source": [
        "print(doc.vocab.strings[\"Apple\"])"
      ],
      "metadata": {
        "colab": {
          "base_uri": "https://localhost:8080/"
        },
        "id": "bD6rogBch-hz",
        "outputId": "79c9f43a-503c-4402-d7de-574027d18a0a"
      },
      "execution_count": 11,
      "outputs": [
        {
          "output_type": "stream",
          "name": "stdout",
          "text": [
            "6418411030699964375\n"
          ]
        }
      ]
    },
    {
      "cell_type": "code",
      "source": [
        "print(doc.vocab.strings[6418411030699964375])"
      ],
      "metadata": {
        "colab": {
          "base_uri": "https://localhost:8080/"
        },
        "id": "n0-a8K0QoBXL",
        "outputId": "87a2a685-cab9-4dba-8dc8-2d6e11e584f6"
      },
      "execution_count": 12,
      "outputs": [
        {
          "output_type": "stream",
          "name": "stdout",
          "text": [
            "Apple\n"
          ]
        }
      ]
    },
    {
      "cell_type": "markdown",
      "source": [
        "In this exercise, we became familiar with basic NLTK tools for analyzing words in text and were able to explore semantic relationships and word distribution patterns."
      ],
      "metadata": {
        "id": "aIWSx00qsUtp"
      }
    },
    {
      "cell_type": "markdown",
      "source": [
        "## Sources\n",
        "[nltk Book - Chapter 1](https://www.nltk.org/book/ch01.html)\n",
        "\\\n",
        "[spaCy 101](https://spacy.io/usage/spacy-101)"
      ],
      "metadata": {
        "id": "zQq09bWqqwfz"
      }
    }
  ]
}