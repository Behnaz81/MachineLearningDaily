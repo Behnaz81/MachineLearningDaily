{
  "nbformat": 4,
  "nbformat_minor": 0,
  "metadata": {
    "colab": {
      "provenance": [],
      "authorship_tag": "ABX9TyObLGq9gEE0XSjI0grwnsJ1",
      "include_colab_link": true
    },
    "kernelspec": {
      "name": "python3",
      "display_name": "Python 3"
    },
    "language_info": {
      "name": "python"
    }
  },
  "cells": [
    {
      "cell_type": "markdown",
      "metadata": {
        "id": "view-in-github",
        "colab_type": "text"
      },
      "source": [
        "<a href=\"https://colab.research.google.com/github/Behnaz81/MachineLearningDaily/blob/main/day01_intro/MachineLearning1.ipynb\" target=\"_parent\"><img src=\"https://colab.research.google.com/assets/colab-badge.svg\" alt=\"Open In Colab\"/></a>"
      ]
    },
    {
      "cell_type": "markdown",
      "source": [
        "# Machine Learning Day 1\n",
        "\n",
        "## Supervised\n",
        "\n",
        "Supervised learning consists the algorithms that learn using the labels. So in this case the data has a label like recognizing cats and dogs.\n",
        "\n",
        "## Unsupervised\n",
        "\n",
        "Unsupervised learning consists the algorithms that find a pattern among the data. Like clustering users in groups.\n",
        "\n",
        "||Unsupervised|Supervised|\n",
        "|:--:|:----------:|:--------:|\n",
        "|data|without labels|With labels|\n",
        "|goal|pattern recognition/clustering|prediction/classification|\n",
        "|example|clustering customers|spam recognition|\n",
        "|algorithm|KMeans, PCA|SVM, KNN|\n",
        "\n"
      ],
      "metadata": {
        "id": "EbxMudZLZhlF"
      }
    }
  ]
}